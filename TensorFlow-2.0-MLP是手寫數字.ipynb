{
 "cells": [
  {
   "cell_type": "markdown",
   "metadata": {},
   "source": [
    "【東吳推廣】**神經網路與深度學習**<br>\n",
    "【授課講師】[陳祥輝 (mail : HsiangHui.Chen@gmail.com)](mailto:HsiangHui.Chen@gmail.com)<br>\n",
    "【facebook】[陳祥輝老師的臉書 (歡迎加好友)](https://goo.gl/osivhx)<br>\n",
    "【相關課程】[東吳推廣數位人才學苑陳祥輝老師的課程表](https://www.ext.scu.edu.tw/courses_search.php?key=陳祥輝)<br>\n",
    "【參考書籍】[TensorFlow+Keras深度學習人工智慧實務應用](http://www.drmaster.com.tw/Bookinfo.asp?BookID=MP21710)<br>\n",
    "【主要議題】MLP辨識手寫數字"
   ]
  },
  {
   "cell_type": "code",
   "execution_count": 2,
   "metadata": {},
   "outputs": [
    {
     "ename": "SyntaxError",
     "evalue": "invalid syntax (<ipython-input-2-8604bd63d963>, line 5)",
     "output_type": "error",
     "traceback": [
      "\u001b[0;36m  File \u001b[0;32m\"<ipython-input-2-8604bd63d963>\"\u001b[0;36m, line \u001b[0;32m5\u001b[0m\n\u001b[0;31m    pip install tensorflow==2.0.0-rc0\u001b[0m\n\u001b[0m              ^\u001b[0m\n\u001b[0;31mSyntaxError\u001b[0m\u001b[0;31m:\u001b[0m invalid syntax\n"
     ]
    }
   ],
   "source": [
    "import os, time, socket, datetime\n",
    "import matplotlib.pyplot as plt\n",
    "import pandas as pd\n",
    "import numpy as np\n",
    "\n",
    "import tensorflow as tf\n",
    "import tensorflow.keras as keras\n",
    "from tensorflow.keras import layers\n",
    "from tensorflow.keras.datasets import mnist\n",
    "\n",
    "# 新舊版本 keras\n",
    "\n",
    "%autosave 120\n",
    "   \n",
    "pyVer = !python -V\n",
    "\n",
    "print(\"【日期時間】{}\".format(time.strftime(\"%Y/%m/%d %H:%M:%S\")))\n",
    "print(\"【主機名稱】{} ({})\".format(socket.gethostname(),socket.gethostbyname(socket.gethostname())))\n",
    "print(\"【工作目錄】{}\".format(os.getcwd()))\n",
    "print(\"【Python】{}\".format(pyVer[0]))\n",
    "print(\"【{}】{}\".format(tf.__name__,tf.__version__))\n",
    "print(\"【{}】{}\".format(tf.keras.__name__,tf.keras.__version__))"
   ]
  },
  {
   "cell_type": "code",
   "execution_count": 2,
   "metadata": {
    "scrolled": false
   },
   "outputs": [
    {
     "name": "stdout",
     "output_type": "stream",
     "text": [
      "# conda environments:\n",
      "#\n",
      "base                     C:\\Anaconda3\n",
      "tf2-gpu               *  C:\\Anaconda3\\envs\\tf2-gpu\n",
      "\n"
     ]
    }
   ],
   "source": [
    "!conda env list"
   ]
  },
  {
   "cell_type": "code",
   "execution_count": 3,
   "metadata": {},
   "outputs": [
    {
     "name": "stdout",
     "output_type": "stream",
     "text": [
      "Help on package tensorflow_core.keras.datasets in tensorflow_core.keras:\n",
      "\n",
      "NAME\n",
      "    tensorflow_core.keras.datasets - Keras built-in datasets.\n",
      "\n",
      "PACKAGE CONTENTS\n",
      "    boston_housing (package)\n",
      "    cifar10 (package)\n",
      "    cifar100 (package)\n",
      "    fashion_mnist (package)\n",
      "    imdb (package)\n",
      "    mnist (package)\n",
      "    reuters (package)\n",
      "\n",
      "FILE\n",
      "    //anaconda3/lib/python3.7/site-packages/tensorflow_core/python/keras/api/_v2/keras/datasets/__init__.py\n",
      "\n",
      "\n"
     ]
    }
   ],
   "source": [
    "help(tf.keras.datasets)"
   ]
  },
  {
   "cell_type": "code",
   "execution_count": 1,
   "metadata": {},
   "outputs": [],
   "source": [
    "import tensorflow.keras.datasets as datasets"
   ]
  },
  {
   "cell_type": "code",
   "execution_count": 2,
   "metadata": {},
   "outputs": [],
   "source": [
    "# x_train: image (ndarray)\n",
    "(x_train, y_train), (x_test, y_test)=datasets.mnist.load_data() #手寫資料"
   ]
  },
  {
   "cell_type": "code",
   "execution_count": 3,
   "metadata": {},
   "outputs": [
    {
     "name": "stdout",
     "output_type": "stream",
     "text": [
      "<class 'numpy.ndarray'>\n",
      "(60000, 28, 28)\n",
      "uint8\n",
      "----------------\n",
      "(60000,)\n",
      "5\n",
      "{0, 1, 2, 3, 4, 5, 6, 7, 8, 9}\n"
     ]
    }
   ],
   "source": [
    "print(type(x_train))\n",
    "print(x_train.shape)\n",
    "print(x_train.dtype) #uint8 u- un-signed unit int8 -- interger 8 (0-255)\n",
    "\n",
    "print('----------------')\n",
    "print(y_train.shape) # 一維 習慣用法 (3,), [3,]\n",
    "print(y_train[0])\n",
    "print(set(y_train)) # 集合"
   ]
  },
  {
   "cell_type": "code",
   "execution_count": 4,
   "metadata": {},
   "outputs": [
    {
     "name": "stdout",
     "output_type": "stream",
     "text": [
      "<class 'numpy.ndarray'>\n"
     ]
    }
   ],
   "source": [
    "print(type(y_train))"
   ]
  },
  {
   "cell_type": "code",
   "execution_count": 15,
   "metadata": {},
   "outputs": [
    {
     "name": "stdout",
     "output_type": "stream",
     "text": [
      "(10000, 28, 28)\n"
     ]
    }
   ],
   "source": [
    "print(x_test.shape)"
   ]
  },
  {
   "cell_type": "code",
   "execution_count": 8,
   "metadata": {},
   "outputs": [
    {
     "data": {
      "image/png": "[encoded data removed]",
      "text/plain": [
       "<Figure size 288x288 with 1 Axes>"
      ]
     },
     "metadata": {
      "needs_background": "light"
     },
     "output_type": "display_data"
    }
   ],
   "source": [
    "plt.figure(figsize=(4,4))\n",
    "#plt.imread()\n",
    "plt.imshow(x_train[0,:,:],cmap='gray') # color-map\n",
    "plt.show()"
   ]
  },
  {
   "cell_type": "code",
   "execution_count": 9,
   "metadata": {},
   "outputs": [],
   "source": [
    "# 每個圖像轉成一列\n",
    "x_train_images=x_train.reshape(60000,28*28).astype('float32') #資料型態 float32\n",
    "x_test_images=x_test.reshape(10000,28*28).astype('float32')"
   ]
  },
  {
   "cell_type": "code",
   "execution_count": 26,
   "metadata": {},
   "outputs": [
    {
     "name": "stdout",
     "output_type": "stream",
     "text": [
      "0.0\n",
      "255.0\n",
      "(60000, 784)\n"
     ]
    }
   ],
   "source": [
    "print(min(x_train_images[0,:]))\n",
    "print(max(x_train_images[0,:]))\n",
    "print(x_train_images.shape)"
   ]
  },
  {
   "cell_type": "code",
   "execution_count": 10,
   "metadata": {},
   "outputs": [],
   "source": [
    "# 標準化\n",
    "x_train_normalize=x_train_images/255\n",
    "x_test_normalize=x_test_images/255"
   ]
  },
  {
   "cell_type": "code",
   "execution_count": 23,
   "metadata": {},
   "outputs": [
    {
     "name": "stdout",
     "output_type": "stream",
     "text": [
      "0.0\n",
      "1.0\n"
     ]
    }
   ],
   "source": [
    "print(min(x_train_normalize[0,:]))\n",
    "print(max(x_train_normalize[0,:]))"
   ]
  },
  {
   "cell_type": "code",
   "execution_count": 24,
   "metadata": {},
   "outputs": [
    {
     "name": "stdout",
     "output_type": "stream",
     "text": [
      "0.0\n",
      "1.0\n"
     ]
    }
   ],
   "source": [
    "print(np.min(x_train_normalize))\n",
    "print(np.max(x_train_normalize))"
   ]
  },
  {
   "cell_type": "markdown",
   "metadata": {},
   "source": [
    "將 label 轉成 one-hot encode\n",
    "        --原來 label 分數值，必需重 0 開始"
   ]
  },
  {
   "cell_type": "code",
   "execution_count": 11,
   "metadata": {},
   "outputs": [],
   "source": [
    "y_train_OneHot=keras.utils.to_categorical(y_train)\n",
    "y_test_OneHot=keras.utils.to_categorical(y_test)"
   ]
  },
  {
   "cell_type": "code",
   "execution_count": 12,
   "metadata": {},
   "outputs": [
    {
     "name": "stdout",
     "output_type": "stream",
     "text": [
      "(60000, 10)\n",
      "5\n",
      "[0. 0. 0. 0. 0. 1. 0. 0. 0. 0.]\n"
     ]
    }
   ],
   "source": [
    "print(y_train_OneHot.shape)\n",
    "print(y_train[0])\n",
    "print(y_train_OneHot[0])"
   ]
  },
  {
   "cell_type": "markdown",
   "metadata": {},
   "source": [
    "MLP 建模"
   ]
  },
  {
   "cell_type": "code",
   "execution_count": 26,
   "metadata": {},
   "outputs": [],
   "source": [
    "model = keras.Sequential(name='MLP')"
   ]
  },
  {
   "cell_type": "markdown",
   "metadata": {},
   "source": [
    "layers.Dense(\n",
    "    units, # 設定神經元的個數\n",
    "    activation=None,\n",
    "    use_bias=True,\n",
    "    kernel_initializer='glorot_uniform',\n",
    "    bias_initializer='zeros',\n",
    "    kernel_regularizer=None,\n",
    "    bias_regularizer=None,\n",
    "    activity_regularizer=None,\n",
    "    kernel_constraint=None,\n",
    "    bias_constraint=None,\n",
    "    **kwargs, # input_dim= 28*28 ＃每一個影像的大小\n",
    ")"
   ]
  },
  {
   "cell_type": "code",
   "execution_count": 27,
   "metadata": {},
   "outputs": [],
   "source": [
    "model.add(layers.Dense(units=256, \n",
    "                        input_dim=28*28, \n",
    "                        kernel_initializer='normal', # 參數隨機產生\n",
    "                       activation='relu',\n",
    "                       name='input_layer1'\n",
    "))"
   ]
  },
  {
   "cell_type": "code",
   "execution_count": 28,
   "metadata": {},
   "outputs": [],
   "source": [
    "model.add(layers.Dense(units=256, \n",
    "                        kernel_initializer='normal', # 參數隨機產生\n",
    "                       activation='relu',\n",
    "                       name='input_layer2'\n",
    "))"
   ]
  },
  {
   "cell_type": "code",
   "execution_count": 29,
   "metadata": {},
   "outputs": [],
   "source": [
    "model.add(layers.Dense(units=10, # 與 label 大小ㄧ 樣\n",
    "                        kernel_initializer='normal', # 參數隨機產生\n",
    "                       activation='softmax',\n",
    "                       name='hidden_layer'\n",
    "))"
   ]
  },
  {
   "cell_type": "code",
   "execution_count": 30,
   "metadata": {},
   "outputs": [
    {
     "name": "stdout",
     "output_type": "stream",
     "text": [
      "Model: \"MLP\"\n",
      "_________________________________________________________________\n",
      "Layer (type)                 Output Shape              Param #   \n",
      "=================================================================\n",
      "input_layer1 (Dense)         (None, 256)               200960    \n",
      "_________________________________________________________________\n",
      "input_layer2 (Dense)         (None, 256)               65792     \n",
      "_________________________________________________________________\n",
      "hidden_layer (Dense)         (None, 10)                2570      \n",
      "=================================================================\n",
      "Total params: 269,322\n",
      "Trainable params: 269,322\n",
      "Non-trainable params: 0\n",
      "_________________________________________________________________\n",
      "None\n"
     ]
    }
   ],
   "source": [
    "print(model.summary()) # Input Parameters = (28*28+1)*256\n",
    "                                # Layer 2: 257*256\n",
    "                                  # Hidden_layer: (256+1)*10"
   ]
  },
  {
   "cell_type": "markdown",
   "metadata": {},
   "source": [
    "model.compile(\n",
    "    optimizer='rmsprop',\n",
    "    loss=None,\n",
    "    metrics=None,\n",
    "    loss_weights=None,\n",
    "    sample_weight_mode=None,\n",
    "    weighted_metrics=None,\n",
    "    target_tensors=None,\n",
    "    distribute=None,\n",
    "    **kwargs,\n",
    ")"
   ]
  },
  {
   "cell_type": "code",
   "execution_count": 19,
   "metadata": {},
   "outputs": [],
   "source": [
    "model.compile(optimizer=tf.keras.optimizers.Adam(learning_rate=0.0005),\n",
    "              loss=tf.losses.categorical_crossentropy,\n",
    "             metrics=['accuracy']\n",
    "             )"
   ]
  },
  {
   "cell_type": "code",
   "execution_count": 20,
   "metadata": {},
   "outputs": [
    {
     "name": "stdout",
     "output_type": "stream",
     "text": [
      "Train on 48000 samples, validate on 12000 samples\n",
      "Epoch 1/30\n",
      "48000/48000 - 1s - loss: 0.6826 - accuracy: 0.8382 - val_loss: 0.3074 - val_accuracy: 0.9162\n",
      "Epoch 2/30\n",
      "48000/48000 - 1s - loss: 0.2823 - accuracy: 0.9218 - val_loss: 0.2330 - val_accuracy: 0.9350\n",
      "Epoch 3/30\n",
      "48000/48000 - 1s - loss: 0.2204 - accuracy: 0.9381 - val_loss: 0.1957 - val_accuracy: 0.9463\n",
      "Epoch 4/30\n",
      "48000/48000 - 1s - loss: 0.1818 - accuracy: 0.9483 - val_loss: 0.1674 - val_accuracy: 0.9548\n",
      "Epoch 5/30\n",
      "48000/48000 - 1s - loss: 0.1540 - accuracy: 0.9569 - val_loss: 0.1494 - val_accuracy: 0.9580\n",
      "Epoch 6/30\n",
      "48000/48000 - 1s - loss: 0.1335 - accuracy: 0.9628 - val_loss: 0.1391 - val_accuracy: 0.9610\n",
      "Epoch 7/30\n",
      "48000/48000 - 1s - loss: 0.1174 - accuracy: 0.9677 - val_loss: 0.1256 - val_accuracy: 0.9643\n",
      "Epoch 8/30\n",
      "48000/48000 - 1s - loss: 0.1039 - accuracy: 0.9713 - val_loss: 0.1187 - val_accuracy: 0.9665\n",
      "Epoch 9/30\n",
      "48000/48000 - 1s - loss: 0.0930 - accuracy: 0.9749 - val_loss: 0.1152 - val_accuracy: 0.9673\n",
      "Epoch 10/30\n",
      "48000/48000 - 1s - loss: 0.0835 - accuracy: 0.9774 - val_loss: 0.1072 - val_accuracy: 0.9689\n",
      "Epoch 11/30\n",
      "48000/48000 - 1s - loss: 0.0760 - accuracy: 0.9793 - val_loss: 0.1026 - val_accuracy: 0.9704\n",
      "Epoch 12/30\n",
      "48000/48000 - 1s - loss: 0.0691 - accuracy: 0.9811 - val_loss: 0.0983 - val_accuracy: 0.9712\n",
      "Epoch 13/30\n",
      "48000/48000 - 1s - loss: 0.0622 - accuracy: 0.9835 - val_loss: 0.0957 - val_accuracy: 0.9717\n",
      "Epoch 14/30\n",
      "48000/48000 - 1s - loss: 0.0568 - accuracy: 0.9854 - val_loss: 0.0940 - val_accuracy: 0.9722\n",
      "Epoch 15/30\n",
      "48000/48000 - 1s - loss: 0.0524 - accuracy: 0.9862 - val_loss: 0.0914 - val_accuracy: 0.9740\n",
      "Epoch 16/30\n",
      "48000/48000 - 1s - loss: 0.0482 - accuracy: 0.9877 - val_loss: 0.0903 - val_accuracy: 0.9739\n",
      "Epoch 17/30\n",
      "48000/48000 - 1s - loss: 0.0439 - accuracy: 0.9892 - val_loss: 0.0862 - val_accuracy: 0.9742\n",
      "Epoch 18/30\n",
      "48000/48000 - 1s - loss: 0.0400 - accuracy: 0.9902 - val_loss: 0.0876 - val_accuracy: 0.9740\n",
      "Epoch 19/30\n",
      "48000/48000 - 1s - loss: 0.0373 - accuracy: 0.9915 - val_loss: 0.0861 - val_accuracy: 0.9732\n",
      "Epoch 20/30\n",
      "48000/48000 - 1s - loss: 0.0343 - accuracy: 0.9921 - val_loss: 0.0840 - val_accuracy: 0.9749\n",
      "Epoch 21/30\n",
      "48000/48000 - 1s - loss: 0.0313 - accuracy: 0.9929 - val_loss: 0.0827 - val_accuracy: 0.9753\n",
      "Epoch 22/30\n",
      "48000/48000 - 1s - loss: 0.0286 - accuracy: 0.9937 - val_loss: 0.0834 - val_accuracy: 0.9744\n",
      "Epoch 23/30\n",
      "48000/48000 - 1s - loss: 0.0265 - accuracy: 0.9946 - val_loss: 0.0811 - val_accuracy: 0.9758\n",
      "Epoch 24/30\n",
      "48000/48000 - 1s - loss: 0.0242 - accuracy: 0.9949 - val_loss: 0.0825 - val_accuracy: 0.9749\n",
      "Epoch 25/30\n",
      "48000/48000 - 1s - loss: 0.0220 - accuracy: 0.9960 - val_loss: 0.0807 - val_accuracy: 0.9762\n",
      "Epoch 26/30\n",
      "48000/48000 - 1s - loss: 0.0204 - accuracy: 0.9962 - val_loss: 0.0804 - val_accuracy: 0.9759\n",
      "Epoch 27/30\n",
      "48000/48000 - 1s - loss: 0.0189 - accuracy: 0.9968 - val_loss: 0.0808 - val_accuracy: 0.9769\n",
      "Epoch 28/30\n",
      "48000/48000 - 1s - loss: 0.0171 - accuracy: 0.9974 - val_loss: 0.0803 - val_accuracy: 0.9760\n",
      "Epoch 29/30\n",
      "48000/48000 - 1s - loss: 0.0157 - accuracy: 0.9977 - val_loss: 0.0824 - val_accuracy: 0.9768\n",
      "Epoch 30/30\n",
      "48000/48000 - 1s - loss: 0.0144 - accuracy: 0.9980 - val_loss: 0.0820 - val_accuracy: 0.9768\n"
     ]
    }
   ],
   "source": [
    "train_history=model.fit(x=x_train_normalize, \n",
    "                               y=y_train_OneHot,\n",
    "                               validation_split=0.2,\n",
    "                               epochs=30,\n",
    "                               batch_size=300, # 每次執行的資料\n",
    "                               verbose=2) #verbose 顯示程式跑的過程"
   ]
  },
  {
   "cell_type": "code",
   "execution_count": 21,
   "metadata": {},
   "outputs": [
    {
     "data": {
      "text/plain": [
       "tensorflow.python.keras.callbacks.History"
      ]
     },
     "execution_count": 21,
     "metadata": {},
     "output_type": "execute_result"
    }
   ],
   "source": [
    "type(train_history)"
   ]
  },
  {
   "cell_type": "code",
   "execution_count": 23,
   "metadata": {},
   "outputs": [
    {
     "data": {
      "text/plain": [
       "dict"
      ]
     },
     "execution_count": 23,
     "metadata": {},
     "output_type": "execute_result"
    }
   ],
   "source": [
    "type(train_history.history)"
   ]
  },
  {
   "cell_type": "code",
   "execution_count": 24,
   "metadata": {},
   "outputs": [
    {
     "data": {
      "text/plain": [
       "dict_keys(['loss', 'accuracy', 'val_loss', 'val_accuracy'])"
      ]
     },
     "execution_count": 24,
     "metadata": {},
     "output_type": "execute_result"
    }
   ],
   "source": [
    "train_history.history.keys()"
   ]
  },
  {
   "cell_type": "code",
   "execution_count": 25,
   "metadata": {},
   "outputs": [
    {
     "data": {
      "image/png": "[encoded data removed]",
      "text/plain": [
       "<Figure size 432x288 with 1 Axes>"
      ]
     },
     "metadata": {
      "needs_background": "light"
     },
     "output_type": "display_data"
    }
   ],
   "source": [
    "plt.figure(figsize=[6,4])\n",
    "plt.plot(train_history.history['accuracy'])\n",
    "plt.plot(train_history.history['val_accuracy'])\n",
    "plt.legend(['Accuracy','Accuracy for validation'])\n",
    "plt.show()"
   ]
  },
  {
   "cell_type": "markdown",
   "metadata": {},
   "source": [
    "CNN 建模"
   ]
  },
  {
   "cell_type": "code",
   "execution_count": 47,
   "metadata": {},
   "outputs": [],
   "source": [
    "model = keras.Sequential(name='CNN')"
   ]
  },
  {
   "cell_type": "code",
   "execution_count": 48,
   "metadata": {},
   "outputs": [],
   "source": [
    "#卷積層\n",
    "model.add(layers.Conv2D(filters=16, # Conv2D 灰階; filters 過濾器個數\n",
    "                        kernel_size=(5,5),\n",
    "                       strides=(1,1),\n",
    "                        padding='same',\n",
    "                       input_shape=(28,28,1),\n",
    "                       activation='relu',\n",
    "                       name='conv_1')) #   灰階 (x,x,1);彩色 (x,x,3)"
   ]
  },
  {
   "cell_type": "code",
   "execution_count": 49,
   "metadata": {},
   "outputs": [],
   "source": [
    "#池化層\n",
    "model.add(layers.MaxPool2D(pool_size=(2,2),name='maxpool_1'))"
   ]
  },
  {
   "cell_type": "code",
   "execution_count": 50,
   "metadata": {},
   "outputs": [],
   "source": [
    "#卷積層\n",
    "model.add(layers.Conv2D(filters=36, # Conv2D 灰階; filters 過濾器個數\n",
    "                        kernel_size=(5,5),\n",
    "                       strides=(1,1),\n",
    "                        padding='same',\n",
    "                       activation='relu',\n",
    "                       name='conv_2')) #   灰階 (x,x,1);彩色 (x,x,3)"
   ]
  },
  {
   "cell_type": "code",
   "execution_count": 51,
   "metadata": {},
   "outputs": [],
   "source": [
    "#池化層\n",
    "model.add(layers.MaxPool2D(pool_size=(2,2),name='maxpool_2'))"
   ]
  },
  {
   "cell_type": "code",
   "execution_count": 52,
   "metadata": {},
   "outputs": [],
   "source": [
    "model.add(layers.Dropout(0.25))"
   ]
  },
  {
   "cell_type": "code",
   "execution_count": 53,
   "metadata": {},
   "outputs": [],
   "source": [
    "#全連階層\n",
    "model.add(layers.Flatten(name='flatten_layer'))"
   ]
  },
  {
   "cell_type": "code",
   "execution_count": 54,
   "metadata": {},
   "outputs": [],
   "source": [
    "#MLP\n",
    "model.add(layers.Dense(units=256,\n",
    "                          activation='relu',\n",
    "                          name='hidden_1'))"
   ]
  },
  {
   "cell_type": "code",
   "execution_count": 55,
   "metadata": {},
   "outputs": [],
   "source": [
    "model.add(layers.Dropout(0.5))"
   ]
  },
  {
   "cell_type": "code",
   "execution_count": 56,
   "metadata": {},
   "outputs": [],
   "source": [
    "#MLP\n",
    "model.add(layers.Dense(units=10,\n",
    "                          activation='softmax',\n",
    "                          name='hidden_2'))"
   ]
  },
  {
   "cell_type": "code",
   "execution_count": 57,
   "metadata": {},
   "outputs": [
    {
     "name": "stdout",
     "output_type": "stream",
     "text": [
      "Model: \"CNN\"\n",
      "_________________________________________________________________\n",
      "Layer (type)                 Output Shape              Param #   \n",
      "=================================================================\n",
      "conv_1 (Conv2D)              (None, 28, 28, 16)        416       \n",
      "_________________________________________________________________\n",
      "maxpool_1 (MaxPooling2D)     (None, 14, 14, 16)        0         \n",
      "_________________________________________________________________\n",
      "conv_2 (Conv2D)              (None, 14, 14, 36)        14436     \n",
      "_________________________________________________________________\n",
      "maxpool_2 (MaxPooling2D)     (None, 7, 7, 36)          0         \n",
      "_________________________________________________________________\n",
      "dropout_2 (Dropout)          (None, 7, 7, 36)          0         \n",
      "_________________________________________________________________\n",
      "flatten_layer (Flatten)      (None, 1764)              0         \n",
      "_________________________________________________________________\n",
      "hidden_1 (Dense)             (None, 256)               451840    \n",
      "_________________________________________________________________\n",
      "dropout_3 (Dropout)          (None, 256)               0         \n",
      "_________________________________________________________________\n",
      "hidden_2 (Dense)             (None, 10)                2570      \n",
      "=================================================================\n",
      "Total params: 469,262\n",
      "Trainable params: 469,262\n",
      "Non-trainable params: 0\n",
      "_________________________________________________________________\n"
     ]
    }
   ],
   "source": [
    "model.summary()\n",
    "# (5*5+1)*16=416\n",
    "# (5*5*16+1)*36=14436"
   ]
  },
  {
   "cell_type": "code",
   "execution_count": 60,
   "metadata": {},
   "outputs": [],
   "source": [
    "model.compile(optimizer=tf.keras.optimizers.Adam(learning_rate=0.0005),\n",
    "              loss=tf.losses.categorical_crossentropy,\n",
    "             metrics=['accuracy']\n",
    "             )"
   ]
  },
  {
   "cell_type": "code",
   "execution_count": 62,
   "metadata": {},
   "outputs": [
    {
     "name": "stdout",
     "output_type": "stream",
     "text": [
      "(60000, 28, 28)\n"
     ]
    }
   ],
   "source": [
    "print(x_train.shape)"
   ]
  },
  {
   "cell_type": "code",
   "execution_count": 71,
   "metadata": {},
   "outputs": [],
   "source": [
    "x_train_images=x_train.reshape(x_train.shape[0],28,28,1).astype('float32')/256"
   ]
  },
  {
   "cell_type": "code",
   "execution_count": 72,
   "metadata": {},
   "outputs": [
    {
     "name": "stdout",
     "output_type": "stream",
     "text": [
      "Train on 48000 samples, validate on 12000 samples\n",
      "Epoch 1/30\n",
      "48000/48000 - 32s - loss: 0.5697 - accuracy: 0.8262 - val_loss: 0.1264 - val_accuracy: 0.9634\n",
      "Epoch 2/30\n",
      "48000/48000 - 34s - loss: 0.1524 - accuracy: 0.9531 - val_loss: 0.0796 - val_accuracy: 0.9772\n",
      "Epoch 3/30\n",
      "48000/48000 - 34s - loss: 0.1050 - accuracy: 0.9682 - val_loss: 0.0653 - val_accuracy: 0.9812\n",
      "Epoch 4/30\n",
      "48000/48000 - 35s - loss: 0.0873 - accuracy: 0.9738 - val_loss: 0.0534 - val_accuracy: 0.9843\n",
      "Epoch 5/30\n",
      "48000/48000 - 38s - loss: 0.0718 - accuracy: 0.9776 - val_loss: 0.0495 - val_accuracy: 0.9860\n",
      "Epoch 6/30\n",
      "48000/48000 - 36s - loss: 0.0636 - accuracy: 0.9802 - val_loss: 0.0481 - val_accuracy: 0.9864\n",
      "Epoch 7/30\n",
      "48000/48000 - 36s - loss: 0.0577 - accuracy: 0.9823 - val_loss: 0.0410 - val_accuracy: 0.9883\n",
      "Epoch 8/30\n",
      "48000/48000 - 37s - loss: 0.0525 - accuracy: 0.9835 - val_loss: 0.0395 - val_accuracy: 0.9890\n",
      "Epoch 9/30\n",
      "48000/48000 - 37s - loss: 0.0474 - accuracy: 0.9856 - val_loss: 0.0380 - val_accuracy: 0.9898\n",
      "Epoch 10/30\n",
      "48000/48000 - 38s - loss: 0.0442 - accuracy: 0.9864 - val_loss: 0.0356 - val_accuracy: 0.9905\n",
      "Epoch 11/30\n",
      "48000/48000 - 39s - loss: 0.0388 - accuracy: 0.9880 - val_loss: 0.0361 - val_accuracy: 0.9898\n",
      "Epoch 12/30\n",
      "48000/48000 - 41s - loss: 0.0368 - accuracy: 0.9883 - val_loss: 0.0359 - val_accuracy: 0.9897\n",
      "Epoch 13/30\n",
      "48000/48000 - 41s - loss: 0.0379 - accuracy: 0.9878 - val_loss: 0.0325 - val_accuracy: 0.9910\n",
      "Epoch 14/30\n",
      "48000/48000 - 43s - loss: 0.0320 - accuracy: 0.9898 - val_loss: 0.0327 - val_accuracy: 0.9908\n",
      "Epoch 15/30\n",
      "48000/48000 - 44s - loss: 0.0294 - accuracy: 0.9911 - val_loss: 0.0331 - val_accuracy: 0.9907\n",
      "Epoch 16/30\n",
      "48000/48000 - 43s - loss: 0.0294 - accuracy: 0.9909 - val_loss: 0.0308 - val_accuracy: 0.9908\n",
      "Epoch 17/30\n",
      "48000/48000 - 44s - loss: 0.0266 - accuracy: 0.9915 - val_loss: 0.0308 - val_accuracy: 0.9912\n",
      "Epoch 18/30\n",
      "48000/48000 - 45s - loss: 0.0259 - accuracy: 0.9919 - val_loss: 0.0295 - val_accuracy: 0.9910\n",
      "Epoch 19/30\n",
      "48000/48000 - 47s - loss: 0.0249 - accuracy: 0.9915 - val_loss: 0.0306 - val_accuracy: 0.9918\n",
      "Epoch 20/30\n",
      "48000/48000 - 45s - loss: 0.0230 - accuracy: 0.9928 - val_loss: 0.0307 - val_accuracy: 0.9914\n",
      "Epoch 21/30\n",
      "48000/48000 - 47s - loss: 0.0209 - accuracy: 0.9932 - val_loss: 0.0316 - val_accuracy: 0.9912\n",
      "Epoch 22/30\n",
      "48000/48000 - 43s - loss: 0.0219 - accuracy: 0.9930 - val_loss: 0.0310 - val_accuracy: 0.9908\n",
      "Epoch 23/30\n",
      "48000/48000 - 47s - loss: 0.0199 - accuracy: 0.9940 - val_loss: 0.0298 - val_accuracy: 0.9917\n",
      "Epoch 24/30\n",
      "48000/48000 - 41s - loss: 0.0184 - accuracy: 0.9937 - val_loss: 0.0300 - val_accuracy: 0.9916\n",
      "Epoch 25/30\n",
      "48000/48000 - 42s - loss: 0.0172 - accuracy: 0.9942 - val_loss: 0.0337 - val_accuracy: 0.9909\n",
      "Epoch 26/30\n",
      "48000/48000 - 45s - loss: 0.0167 - accuracy: 0.9944 - val_loss: 0.0302 - val_accuracy: 0.9917\n",
      "Epoch 27/30\n",
      "48000/48000 - 41s - loss: 0.0172 - accuracy: 0.9943 - val_loss: 0.0294 - val_accuracy: 0.9925\n",
      "Epoch 28/30\n",
      "48000/48000 - 44s - loss: 0.0151 - accuracy: 0.9949 - val_loss: 0.0275 - val_accuracy: 0.9929\n",
      "Epoch 29/30\n",
      "48000/48000 - 44s - loss: 0.0147 - accuracy: 0.9950 - val_loss: 0.0304 - val_accuracy: 0.9923\n",
      "Epoch 30/30\n",
      "48000/48000 - 48s - loss: 0.0146 - accuracy: 0.9948 - val_loss: 0.0316 - val_accuracy: 0.9925\n"
     ]
    }
   ],
   "source": [
    "train_history=model.fit(x=x_train_images, \n",
    "                               y=y_train_OneHot,\n",
    "                               validation_split=0.2,\n",
    "                               epochs=30,\n",
    "                               batch_size=300, # 每次執行的資料\n",
    "                               verbose=2) #verbose 顯示程式跑的過程"
   ]
  },
  {
   "cell_type": "code",
   "execution_count": null,
   "metadata": {},
   "outputs": [],
   "source": []
  }
 ],
 "metadata": {
  "kernelspec": {
   "display_name": "Python 3",
   "language": "python",
   "name": "python3"
  },
  "language_info": {
   "codemirror_mode": {
    "name": "ipython",
    "version": 3
   },
   "file_extension": ".py",
   "mimetype": "text/x-python",
   "name": "python",
   "nbconvert_exporter": "python",
   "pygments_lexer": "ipython3",
   "version": "3.6.9"
  }
 },
 "nbformat": 4,
 "nbformat_minor": 2
}
