{
 "cells": [
  {
   "cell_type": "markdown",
   "metadata": {},
   "source": [
    "[A Comprehensive Guide To Visualizing and Analyzing DICOM Images in Python](https://medium.com/@hengloose/a-comprehensive-starter-guide-to-visualizing-and-analyzing-dicom-images-in-python-7a8430fcb7ed)"
   ]
  },
  {
   "cell_type": "code",
   "execution_count": 1,
   "metadata": {},
   "outputs": [],
   "source": [
    "import workflow.dicom_workflow as workflow\n",
    "import os\n",
    "import matplotlib.pyplot as plt\n",
    "import numpy as np\n",
    "import pandas as pd\n",
    "import copy"
   ]
  },
  {
   "cell_type": "code",
   "execution_count": null,
   "metadata": {},
   "outputs": [],
   "source": [
    "os.environ[\"dicom_path\"] = \"C:/ntpu_project/LIDC-IDRI/\""
   ]
  },
  {
   "cell_type": "code",
   "execution_count": 3,
   "metadata": {},
   "outputs": [],
   "source": [
    "# workflow.get_directory()"
   ]
  },
  {
   "cell_type": "code",
   "execution_count": 4,
   "metadata": {},
   "outputs": [],
   "source": [
    "#workflow.dicom_directory"
   ]
  },
  {
   "cell_type": "code",
   "execution_count": 2,
   "metadata": {},
   "outputs": [],
   "source": [
    "os.environ[\"dicom_path\"] = \"C:/ntpu_project/LIDC-IDRI/LIDC-IDRI-1011/\""
   ]
  },
  {
   "cell_type": "code",
   "execution_count": 3,
   "metadata": {},
   "outputs": [
    {
     "name": "stdout",
     "output_type": "stream",
     "text": [
      "reading total...1/1 patient folders\n",
      "Worker 1: C:/ntpu_project/LIDC-IDRI/LIDC-IDRI-1011/01-01-2000-CT THORAX WCONTRAST-94040/2-CHEST-06815/\n",
      "C:/ntpu_project/LIDC-IDRI/LIDC-IDRI-1011/01-01-2000-CT THORAX WCONTRAST-94040/2-CHEST-06815/087.xml\n",
      "reading total...50/133 patient DICOMs\n",
      "reading total...100/133 patient DICOMs\n",
      "reading total...133/133 patient DICOMs\n",
      "same result!!!!!!!!!!!\n",
      "same result!!!!!!!!!!!\n",
      "1.3.6.1.4.1.14519.5.2.1.6279.6001.193715981207740465635852316394 nodule_type NODULE_GREATER_THAN_3MM\n",
      "same result!!!!!!!!!!!\n",
      "same result!!!!!!!!!!!\n",
      "same result!!!!!!!!!!!\n",
      "same result!!!!!!!!!!!\n",
      "same result!!!!!!!!!!!\n",
      "same result!!!!!!!!!!!\n",
      "1.3.6.1.4.1.14519.5.2.1.6279.6001.456127109393489787435570763700 distance >= 5, (382.58677685950414, 249.27272727272728) & (378.97435897435895, 254.74358974358975)\n",
      "has_only_one_result\n",
      "same result!!!!!!!!!!!\n",
      "1.3.6.1.4.1.14519.5.2.1.6279.6001.271598078776433645837246573410 nodule_type NODULE_GREATER_THAN_3MM\n",
      "same result!!!!!!!!!!!\n",
      "same result!!!!!!!!!!!\n",
      "1.3.6.1.4.1.14519.5.2.1.6279.6001.246305521341292822801560382054 distance >= 5, (376.31531531531533, 253.94594594594594) & (382.24, 253.24)\n",
      "same result!!!!!!!!!!!\n",
      "1.3.6.1.4.1.14519.5.2.1.6279.6001.710491504775239445587170721422 distance >= 5, (377.4, 254.34285714285716) & (382.7142857142857, 254.06493506493507)\n",
      "same result!!!!!!!!!!!\n",
      "same result!!!!!!!!!!!\n",
      "same result!!!!!!!!!!!\n",
      "same result!!!!!!!!!!!\n",
      "same result!!!!!!!!!!!\n",
      "same result!!!!!!!!!!!\n"
     ]
    }
   ],
   "source": [
    "workflow.run()"
   ]
  },
  {
   "cell_type": "code",
   "execution_count": 4,
   "metadata": {},
   "outputs": [
    {
     "name": "stdout",
     "output_type": "stream",
     "text": [
      "18\n",
      "6\n",
      "109\n"
     ]
    }
   ],
   "source": [
    "print(len(workflow.mapped_ct_dicom_list))\n",
    "print(len(workflow.mapped_ct_dicom_list_unmatched))\n",
    "print(len(workflow.un_mapped_ct_dicom_list))"
   ]
  },
  {
   "cell_type": "code",
   "execution_count": 5,
   "metadata": {},
   "outputs": [
    {
     "name": "stdout",
     "output_type": "stream",
     "text": [
      "is same result = True\n",
      "rescale_slope = 1\n",
      "rescale_intercept = -1024\n"
     ]
    }
   ],
   "source": [
    "dicom = workflow.mapped_ct_dicom_list[0]\n",
    "image = copy.deepcopy(dicom.pixel_array)\n",
    "nodule_list = dicom.nodule_list\n",
    "#for nodule in nodule_list:\n",
    "#    print([edge for edge in nodule.edge_map_list])\n",
    "print(f'is same result = {dicom.is_same_examination_result}')\n",
    "print(f'rescale_slope = {dicom.rescale_slope}')\n",
    "print(f'rescale_intercept = {dicom.rescale_intercept}')"
   ]
  },
  {
   "cell_type": "code",
   "execution_count": 6,
   "metadata": {
    "scrolled": true
   },
   "outputs": [
    {
     "name": "stdout",
     "output_type": "stream",
     "text": [
      "C:/ntpu_project/LIDC-IDRI/LIDC-IDRI-1011/01-01-2000-CT THORAX WCONTRAST-94040/2-CHEST-06815/000009.dcm\n"
     ]
    }
   ],
   "source": [
    "print(dicom.full_path)"
   ]
  },
  {
   "cell_type": "code",
   "execution_count": 7,
   "metadata": {},
   "outputs": [],
   "source": [
    "import matplotlib.pyplot as plt\n",
    "import numpy as np\n",
    "\n",
    "from numpy.random import randn\n",
    "import time"
   ]
  },
  {
   "cell_type": "code",
   "execution_count": 8,
   "metadata": {},
   "outputs": [
    {
     "name": "stdout",
     "output_type": "stream",
     "text": [
      "225.0\n",
      "-125.0\n"
     ]
    }
   ],
   "source": [
    "#hu_image = dicom.transform_to_hu()\n",
    "hu_image = dicom.window_image(50, 350)"
   ]
  },
  {
   "cell_type": "code",
   "execution_count": 9,
   "metadata": {},
   "outputs": [
    {
     "name": "stdout",
     "output_type": "stream",
     "text": [
      "225.0\n",
      "-125.0\n"
     ]
    },
    {
     "data": {
      "text/plain": [
       "(128, 128)"
      ]
     },
     "execution_count": 9,
     "metadata": {},
     "output_type": "execute_result"
    }
   ],
   "source": [
    "print(np.max(hu_image))\n",
    "print(np.min(hu_image))\n",
    "np.shape(hu_image)"
   ]
  },
  {
   "cell_type": "code",
   "execution_count": 10,
   "metadata": {},
   "outputs": [
    {
     "name": "stdout",
     "output_type": "stream",
     "text": [
      "800.0\n",
      "-1200.0\n"
     ]
    },
    {
     "data": {
      "text/plain": [
       "<matplotlib.image.AxesImage at 0x18dadc9ae08>"
      ]
     },
     "execution_count": 10,
     "metadata": {},
     "output_type": "execute_result"
    },
    {
     "data": {
      "image/png": "[encoded data removed]",
      "text/plain": [
       "<Figure size 432x288 with 1 Axes>"
      ]
     },
     "metadata": {
      "needs_background": "light"
     },
     "output_type": "display_data"
    }
   ],
   "source": [
    "lung_image = dicom.window_image(-200, 2000)\n",
    "plt.imshow(lung_image, cmap=plt.cm.gray)"
   ]
  },
  {
   "cell_type": "code",
   "execution_count": 11,
   "metadata": {
    "scrolled": true
   },
   "outputs": [
    {
     "name": "stdout",
     "output_type": "stream",
     "text": [
      "225.0\n",
      "-125.0\n"
     ]
    },
    {
     "data": {
      "text/plain": [
       "<matplotlib.image.AxesImage at 0x18dadd56348>"
      ]
     },
     "execution_count": 11,
     "metadata": {},
     "output_type": "execute_result"
    },
    {
     "data": {
      "image/png": "[encoded data removed]",
      "text/plain": [
       "<Figure size 432x288 with 1 Axes>"
      ]
     },
     "metadata": {
      "needs_background": "light"
     },
     "output_type": "display_data"
    }
   ],
   "source": [
    "soft_tissue_image = dicom.window_image(50, 350)\n",
    "plt.imshow(soft_tissue_image, cmap=plt.cm.gray)"
   ]
  },
  {
   "cell_type": "code",
   "execution_count": 15,
   "metadata": {
    "scrolled": true
   },
   "outputs": [
    {
     "data": {
      "image/png": "[encoded data removed]",
      "text/plain": [
       "<Figure size 432x288 with 1 Axes>"
      ]
     },
     "metadata": {
      "needs_background": "light"
     },
     "output_type": "display_data"
    },
    {
     "name": "stdout",
     "output_type": "stream",
     "text": [
      "2082\n",
      "-1320\n"
     ]
    },
    {
     "ename": "IndexError",
     "evalue": "index 159 is out of bounds for axis 0 with size 128",
     "output_type": "error",
     "traceback": [
      "\u001b[1;31m---------------------------------------------------------------------------\u001b[0m",
      "\u001b[1;31mIndexError\u001b[0m                                Traceback (most recent call last)",
      "\u001b[1;32m<ipython-input-15-0a47f2646d31>\u001b[0m in \u001b[0;36m<module>\u001b[1;34m\u001b[0m\n\u001b[0;32m     17\u001b[0m     \u001b[1;32mfor\u001b[0m \u001b[0medge\u001b[0m \u001b[1;32min\u001b[0m \u001b[0mnodule\u001b[0m\u001b[1;33m.\u001b[0m\u001b[0medge_map_list\u001b[0m\u001b[1;33m:\u001b[0m\u001b[1;33m\u001b[0m\u001b[1;33m\u001b[0m\u001b[0m\n\u001b[0;32m     18\u001b[0m \u001b[1;31m#        print(f'int(edge.x) = {int(edge.x)}, int(edge.y) = {int(edge.y)}')\u001b[0m\u001b[1;33m\u001b[0m\u001b[1;33m\u001b[0m\u001b[1;33m\u001b[0m\u001b[0m\n\u001b[1;32m---> 19\u001b[1;33m        \u001b[0mtemp_pixel_array\u001b[0m\u001b[1;33m[\u001b[0m\u001b[0mint\u001b[0m\u001b[1;33m(\u001b[0m\u001b[0medge\u001b[0m\u001b[1;33m.\u001b[0m\u001b[0my\u001b[0m\u001b[1;33m)\u001b[0m\u001b[1;33m,\u001b[0m \u001b[0mint\u001b[0m\u001b[1;33m(\u001b[0m\u001b[0medge\u001b[0m\u001b[1;33m.\u001b[0m\u001b[0mx\u001b[0m\u001b[1;33m)\u001b[0m\u001b[1;33m]\u001b[0m \u001b[1;33m=\u001b[0m \u001b[0mnp\u001b[0m\u001b[1;33m.\u001b[0m\u001b[0mmax\u001b[0m\u001b[1;33m(\u001b[0m\u001b[0mimage\u001b[0m\u001b[1;33m)\u001b[0m \u001b[1;33m*\u001b[0m \u001b[1;36m3\u001b[0m\u001b[1;33m\u001b[0m\u001b[1;33m\u001b[0m\u001b[0m\n\u001b[0m\u001b[0;32m     20\u001b[0m     \u001b[1;31m#plt.imshow(dicom.pixel_array, cmap=plt.cm.gray)\u001b[0m\u001b[1;33m\u001b[0m\u001b[1;33m\u001b[0m\u001b[1;33m\u001b[0m\u001b[0m\n\u001b[0;32m     21\u001b[0m     \u001b[0mplt\u001b[0m\u001b[1;33m.\u001b[0m\u001b[0mimshow\u001b[0m\u001b[1;33m(\u001b[0m\u001b[0mtemp_pixel_array\u001b[0m\u001b[1;33m,\u001b[0m \u001b[0mcmap\u001b[0m\u001b[1;33m=\u001b[0m\u001b[0mplt\u001b[0m\u001b[1;33m.\u001b[0m\u001b[0mcm\u001b[0m\u001b[1;33m.\u001b[0m\u001b[0mgray\u001b[0m\u001b[1;33m)\u001b[0m\u001b[1;33m\u001b[0m\u001b[1;33m\u001b[0m\u001b[0m\n",
      "\u001b[1;31mIndexError\u001b[0m: index 159 is out of bounds for axis 0 with size 128"
     ]
    }
   ],
   "source": [
    "# 將診斷為 nodule edge 的周遭用 1024 (白) 去圈起來\n",
    "size = len(dicom.nodule_list)\n",
    "plt.imshow(image, cmap=plt.cm.gray)\n",
    "plt.show()\n",
    "temp_pixel_array = None\n",
    "for i, nodule in enumerate(dicom.nodule_list):\n",
    "    # print(f'{0 if (i/2)<1 else 1}, {(i%2)}')\n",
    "    temp_pixel_array = copy.deepcopy(image)\n",
    "    # lung windowing\n",
    "#     temp_pixel_array[temp_pixel_array < -1200] = -1200\n",
    "#     temp_pixel_array[temp_pixel_array > 800] = 800\n",
    "    # soft tissue windowing\n",
    "#     temp_pixel_array[temp_pixel_array < -125] = -125\n",
    "#     temp_pixel_array[temp_pixel_array > 225] = 225\n",
    "    print(np.max(temp_pixel_array))\n",
    "    print(np.min(temp_pixel_array))\n",
    "    for edge in nodule.edge_map_list:\n",
    "#        print(f'int(edge.x) = {int(edge.x)}, int(edge.y) = {int(edge.y)}')\n",
    "       temp_pixel_array[int(edge.y), int(edge.x)] = np.max(image) * 3\n",
    "    #plt.imshow(dicom.pixel_array, cmap=plt.cm.gray)\n",
    "    plt.imshow(temp_pixel_array, cmap=plt.cm.gray)\n",
    "    plt.show()"
   ]
  },
  {
   "cell_type": "code",
   "execution_count": 12,
   "metadata": {},
   "outputs": [],
   "source": [
    "import pickle\n",
    "\n",
    "# pickle a variable to a file\n",
    "file = open('C:/ntpu_project/pickle_example.pickle', 'wb')\n",
    "target_dicom = list()\n",
    "target_dicom.extend(workflow.mapped_ct_dicom_list)\n",
    "target_dicom.extend(workflow.un_mapped_ct_dicom_list)\n",
    "pickle.dump(target_dicom, file)\n",
    "file.close()"
   ]
  },
  {
   "cell_type": "code",
   "execution_count": null,
   "metadata": {},
   "outputs": [],
   "source": [
    "# reload a file to a variable\n",
    "with open('C:/ntpu_project/pickle_example.pickle', 'rb') as file:\n",
    "    dicom_list =pickle.load(file)\n",
    "\n",
    "print(dicom_list)"
   ]
  },
  {
   "cell_type": "code",
   "execution_count": null,
   "metadata": {},
   "outputs": [],
   "source": [
    "dicom = dicom_list[0]\n",
    "image = copy.deepcopy(dicom.pixel_array)\n",
    "nodule_list = dicom.nodule_list\n",
    "#for nodule in nodule_list:\n",
    "#    print([edge for edge in nodule.edge_map_list])\n",
    "print(f'is same result = {dicom.is_same_examination_result}')\n",
    "print(f'rescale_slope = {dicom.rescale_slope}')\n",
    "print(f'rescale_intercept = {dicom.rescale_intercept}')"
   ]
  },
  {
   "cell_type": "code",
   "execution_count": null,
   "metadata": {},
   "outputs": [],
   "source": [
    "# TODO: model training\n",
    "import numpy as np\n",
    "from sklearn.model_selection import train_test_split\n",
    "from sklearn.preprocessing import OneHotEncoder\n",
    "from tensorflow.keras.utils import to_categorical"
   ]
  },
  {
   "cell_type": "code",
   "execution_count": null,
   "metadata": {},
   "outputs": [],
   "source": [
    "# prepair data for CNN\n",
    "all_imgs = [dicom.standardlize() for dicom in dicom_list]\n",
    "x = np.stack(all_imgs)\n",
    "# 標記 edge 到 y 中\n",
    "y = list()\n",
    "for dicom in dicom_list:\n",
    "    img_y = np.zeros(np.shape(dicom.pixel_array))\n",
    "    edge = np.array([[int(edge.x), int(edge.y)] for edge in dicom.nodule_list[0].edge_map_list])\n",
    "    img_y[tuple(edge.T)] = 1\n",
    "    y.append(img_y)\n",
    "\n",
    "# for edge in dicom.nodule_list[0].edge_map_list:\n",
    "#     print(y[int(edge.x), int(edge.y)])"
   ]
  },
  {
   "cell_type": "code",
   "execution_count": null,
   "metadata": {},
   "outputs": [],
   "source": [
    "print(np.shape(x))\n",
    "print(np.shape(y))"
   ]
  },
  {
   "cell_type": "code",
   "execution_count": null,
   "metadata": {},
   "outputs": [],
   "source": [
    "X_train, X_test, y_train, y_test = train_test_split(x, y, test_size=0.2, random_state=2100, shuffle=True)\n",
    "y_train_onehot = to_categorical(y_train)\n",
    "y_test_onehot = to_categorical(y_test)"
   ]
  },
  {
   "cell_type": "code",
   "execution_count": null,
   "metadata": {},
   "outputs": [],
   "source": []
  },
  {
   "cell_type": "code",
   "execution_count": null,
   "metadata": {},
   "outputs": [],
   "source": []
  },
  {
   "cell_type": "code",
   "execution_count": null,
   "metadata": {},
   "outputs": [],
   "source": []
  },
  {
   "cell_type": "code",
   "execution_count": null,
   "metadata": {
    "scrolled": true
   },
   "outputs": [],
   "source": [
    "print(dicom.full_path)\n",
    "print(dicom.pixel_array[:300])\n",
    "print(image.min())\n",
    "print(image.max())"
   ]
  },
  {
   "cell_type": "code",
   "execution_count": null,
   "metadata": {},
   "outputs": [],
   "source": [
    "from scipy.ndimage import filters\n",
    "import tensorflow as tf\n",
    "import cv2"
   ]
  },
  {
   "cell_type": "code",
   "execution_count": null,
   "metadata": {
    "scrolled": true
   },
   "outputs": [],
   "source": [
    "### kernel_size = 5\n",
    " \n",
    "# 使用numpy建立 5*5且值為1/(5**2)的矩陣作為kernel。\n",
    " \n",
    "kernel_x = np.array([\n",
    "    [-1, -4, -6, -4, -1],\n",
    "    [-2, -8, -12, -8, -2],\n",
    "    [0, 0, 0, 0, 0],\n",
    "    [2, 8, 12, 8, 2],\n",
    "    [1, 4, 6, 4, 1],\n",
    "])\n",
    "\n",
    "kernel_y = np.array([\n",
    "    [1, 2, 0, -2, -1],\n",
    "    [4, 8, 0, -8, -4],\n",
    "    [6, 12, 0, -12, -6],\n",
    "    [4, 8, 0, -8, -4],\n",
    "    [1, 2, 0, -2, -1],\n",
    "    \n",
    "])\n",
    " \n",
    "# 使用cv2.filter2D進行convolute，\n",
    " \n",
    "result_x = cv2.filter2D(soft_tissue_image, ddepth=-1 , dst=-1, kernel=kernel_x, anchor=(-1, -1), delta=0, borderType=cv2.BORDER_DEFAULT)\n",
    "result_y = cv2.filter2D(soft_tissue_image, -1 , kernel_y)\n",
    " \n",
    "# cv2.imshow(\"Filter\", result)\n",
    "# cv2.imshow(\"Original\", image)\n",
    " \n",
    "print(np.max(result_x))\n",
    "print(np.min(result_x))\n",
    "print(np.max(result_y))\n",
    "print(np.min(result_y))\n",
    "\n",
    "plt.imshow(image, cmap=plt.cm.gray)\n",
    "plt.show()\n",
    "plt.imshow(result_x, cmap=plt.cm.gray)\n",
    "plt.show()\n",
    "temp_y = copy.deepcopy(result_y)\n",
    "plt.imshow(temp_y, cmap=plt.cm.gray)\n",
    "plt.show()"
   ]
  },
  {
   "cell_type": "code",
   "execution_count": null,
   "metadata": {},
   "outputs": [],
   "source": []
  }
 ],
 "metadata": {
  "kernelspec": {
   "display_name": "Python 3",
   "language": "python",
   "name": "python3"
  },
  "language_info": {
   "codemirror_mode": {
    "name": "ipython",
    "version": 3
   },
   "file_extension": ".py",
   "mimetype": "text/x-python",
   "name": "python",
   "nbconvert_exporter": "python",
   "pygments_lexer": "ipython3",
   "version": "3.7.7"
  }
 },
 "nbformat": 4,
 "nbformat_minor": 2
}
