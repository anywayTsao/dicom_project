{
 "cells": [
  {
   "cell_type": "markdown",
   "metadata": {},
   "source": [
    "【東吳推廣】<font color=#0000FF>人工智慧與深度學習</font><br>\n",
    "【授課講師】[陳祥輝 (mail : HsiangHui.Chen@gmail.com)](mailto:HsiangHui.Chen@gmail.com)<br>\n",
    "【facebook】[陳祥輝老師的臉書 (歡迎加好友)](https://goo.gl/osivhx)<br>\n",
    "【相關課程】[東吳推廣數位人才學苑陳祥輝老師的課程表](https://www.ext.scu.edu.tw/courses_search.php?key=陳祥輝)<br>\n",
    "【主要議題】神經網路與深度學習相關資料整理"
   ]
  },
  {
   "cell_type": "markdown",
   "metadata": {},
   "source": [
    "<a id=Home>【課程大綱】</a>\n",
    "1. [Artificial Neural Network(人工神經網路)](#ann)\n",
    "2. [`Perceptron(感知器)`](#perceptron)\n",
    "    - Single Layer Perceptron, 單層感知器\n",
    "    - Multi-Layer Perceptron (MLP), 多層感知器\n",
    "3. [Propagation, 傳遞方式](#propagation)\n",
    "    - FeedForward : 前向傳遞 (Forward propagation)\n",
    "    - Backpropagation : 反向傳遞 (Backward propagation), 是一種學習的方法\n",
    "        - [A Step by Step Backpropagation Example – Matt Mazur](https://mattmazur.com/2015/03/17/a-step-by-step-backpropagation-example/)<font color=#FF0000>【★★★★★】</font>\n",
    "        - [Backpropagation Step by Step](https://hmkcode.github.io/ai/backpropagation-step-by-step/)<font color=#FF0000>【★★★★★】</font>\n",
    "        - [Backpropagation Example With Numbers Step by Step](https://www.anotsorandomwalk.com/backpropagation-example-with-numbers-step-by-step/)<font color=#FF0000>【★★★★★】</font>\n",
    "        - [(PDF)The Backpropagation Algorithm](https://page.mi.fu-berlin.de/rojas/neural/chapter/K7.pdf)\n",
    "4. [`MLP`](#mlp)\n",
    "5. [`Deep Learning, 深度學習`](#deeplearning) : [CNN(卷積神經網絡)、RNN(循環神經網絡)、DNN(深度神經網絡)的內部網絡結構有什麼區別？](https://www.zhihu.com/question/34681168)<font color=#000000>【★★☆☆☆】</font>\n",
    "    - `Deep Neural Networks(DNN, 深度神經網路)`\n",
    "        - 神經網路是基於感知器的擴展，而DNN可以理解為有很多隱藏層的神經網絡。多層神經網絡和深度神經網絡DNN其實也是指的一個東西，DNN有時也叫做多層感知器(Multi-Layer perceptron,MLP)。\n",
    "        - [深度神經網路(DNN)](https://zhuanlan.zhihu.com/p/29815081)<font color=#0000FF>【★★★☆☆】</font>\n",
    "        - [機器學習- 神經網路(多層感知機 Multilayer perceptron, MLP) 含倒傳遞( Backward propagation)詳細推導](https://medium.com/@chih.sheng.huang821/%E6%A9%9F%E5%99%A8%E5%AD%B8%E7%BF%92-%E7%A5%9E%E7%B6%93%E7%B6%B2%E8%B7%AF-%E5%A4%9A%E5%B1%A4%E6%84%9F%E7%9F%A5%E6%A9%9F-multilayer-perceptron-mlp-%E5%90%AB%E8%A9%B3%E7%B4%B0%E6%8E%A8%E5%B0%8E-ee4f3d5d1b41)<font color=#0000FF>【★★★☆☆】</font>\n",
    "    - `Convolutional Neural Networks(CNN, 卷積神經網路)`\n",
    "    - `Recurrent Neural Networks(RNN, 遞歸神經網路)`\n",
    "        - Long Short-Term Memory(LSTM, 長短期記憶模型)"
   ]
  },
  {
   "cell_type": "markdown",
   "metadata": {},
   "source": [
    "【微積分教學影片】\n",
    "- [連鎖律(Chain Rule)](https://www.youtube.com/watch?v=UXF2--Ghxb0)\n",
    "- [隱函數的微分](https://www.youtube.com/watch?v=buZVxlkRHO4)\n",
    "- [分數微分](https://www.youtube.com/watch?v=a-mOU6sSVIA)\n",
    "- [指數微分](https://www.youtube.com/watch?v=lUKMY8RV_38)\n",
    "    - [歐拉公式](https://www.youtube.com/watch?v=VvyXVtpvq68)\n",
    "- [偏微分](https://www.youtube.com/watch?v=JQ4lSc48QCw)"
   ]
  },
  {
   "cell_type": "markdown",
   "metadata": {},
   "source": [
    "【參考資料】\n",
    "- [10 Gradient Descent Optimisation Algorithms + Cheat Sheet](https://towardsdatascience.com/10-gradient-descent-optimisation-algorithms-86989510b5e9)\n",
    "- [深度學習最強資源推薦：一文看盡 GAN 的前世今生](http://bangqu.com/l1494c.html)\n",
    "- [CNN模型-ResNet、MobileNet、DenseNet、ShuffleNet、EfficientNet](https://medium.com/@CinnamonAITaiwan/cnn%E6%A8%A1%E5%9E%8B-resnet-mobilenet-densenet-shufflenet-efficientnet-5eba5c8df7e4)\n",
    "- [使用sklearn之LabelEncoder将Label标准化](https://blog.csdn.net/u010412858/article/details/78386407) <font color=#FF0000>【★★★★★】</font>\n",
    "    - 介紹如何實作將類別型資料透過sklearn之LabelEncoder轉換成One-Hot Encode"
   ]
  },
  {
   "cell_type": "markdown",
   "metadata": {},
   "source": [
    "#### 【線上課程】\n",
    "- [李宏毅教授系列課程](https://www.youtube.com/watch?v=CXgbekl66jc&list=PLJV_el3uVTsPy9oCRY30oBPNLCo89yu49) <font color=#FF0000>【★★★★★】</font>\n",
    "- [《動手學深度學習》](http://zh.d2l.ai/index.html)\n",
    "    - 1. [深度學習簡介](http://zh.d2l.ai/chapter_introduction/deep-learning-intro.html)\n",
    "    - 2. [預備知識](http://zh.d2l.ai/chapter_prerequisite/index.html)\n",
    "    - 3. [深度學習基礎](http://zh.d2l.ai/chapter_deep-learning-basics/index.html)\n",
    "    - 4. [深度學習計算](http://zh.d2l.ai/chapter_deep-learning-computation/index.html)\n",
    "    - 5. [卷積神經網路](http://zh.d2l.ai/chapter_convolutional-neural-networks/index.html)\n",
    "    - 6. [循環神經網路](http://zh.d2l.ai/chapter_recurrent-neural-networks/index.html)\n",
    "    - 7. [優化算法](http://zh.d2l.ai/chapter_optimization/index.html)\n",
    "    - 8. [計算性能](http://zh.d2l.ai/chapter_computational-performance/index.html)\n",
    "    - 9. [計算機視覺](http://zh.d2l.ai/chapter_computer-vision/index.html)\n",
    "    - 10. [自然語言處理](http://zh.d2l.ai/chapter_natural-language-processing/index.html)\n",
    "    - 11. [附錄](http://zh.d2l.ai/chapter_appendix/index.html)\n",
    "- 【實作TensorFlow系列】\n",
    "    - [實作Tensorflow (1)：Simple Logistic Classification on MNIST](https://www.ycc.idv.tw/tensorflow-tutorial_1.html)\n",
    "    - [實作Tensorflow (2)：Build First Deep Neurel Network (DNN)](https://www.ycc.idv.tw/tensorflow-tutorial_2.html)\n",
    "    - [實作Tensorflow (3)：Build First Convolutional Neurel Network (CNN)](https://www.ycc.idv.tw/tensorflow-tutorial_3.html)\n",
    "    - [實作Tensorflow (4)：Autoencoder](https://www.ycc.idv.tw/tensorflow-tutorial_4.html)\n",
    "    - [實作Tensorflow (5)：Word2Vec](https://www.ycc.idv.tw/tensorflow-tutorial_5.html)\n",
    "    - [實作Tensorflow (6)：Recurrent Neural Networks (RNN) and Long Short-Term Memory (LSTM)](https://www.ycc.idv.tw/tensorflow-tutorial_6.html)\n",
    "- 【機器學習技法系列】\n",
    "    - [機器學習技法 學習筆記 (1)：我們將會學到什麼? 先見林再來見樹](https://www.ycc.idv.tw/ml-course-techniques_1.html)\n",
    "    - [機器學習技法 學習筆記 (2)：Support Vector Machine (SVM)](https://www.ycc.idv.tw/ml-course-techniques_2.html)\n",
    "    - [機器學習技法 學習筆記 (3)：Kernel Regression](https://www.ycc.idv.tw/ml-course-techniques_3.html)\n",
    "    - [機器學習技法 學習筆記 (4)：Basic Aggregation Models](https://www.ycc.idv.tw/ml-course-techniques_4.html)\n",
    "    - [機器學習技法 學習筆記 (5)：Boost Aggregation Models](https://www.ycc.idv.tw/ml-course-techniques_5.html)\n",
    "    - [機器學習技法 學習筆記 (6)：神經網路(Neural Network)與深度學習(Deep Learning)](https://www.ycc.idv.tw/ml-course-techniques_6.html)\n",
    "    - [機器學習技法 學習筆記 (7)：Radial Basis Function Network與Matrix Factorization](https://www.ycc.idv.tw/ml-course-techniques_7.html)"
   ]
  },
  {
   "cell_type": "markdown",
   "metadata": {},
   "source": [
    "【重要性標示的說明】\n",
    "1. <font color=#000000>【★☆☆☆☆】</font> : 純欣賞，看不看皆可\n",
    "2. <font color=#000000>【★★☆☆☆】</font> : 增廣見聞，快速瀏覽即可\n",
    "3. <font color=#0000FF>【★★★☆☆】</font> : 基本常識，必讀\n",
    "4. <font color=#0000FF>【★★★★☆】</font> : 很重要的，必讀\n",
    "5. <font color=#FF0000>【★★★★★】</font> : 極為重要且不錯的文章，必讀"
   ]
  },
  {
   "cell_type": "code",
   "execution_count": 3,
   "metadata": {
    "scrolled": true
   },
   "outputs": [
    {
     "name": "stdout",
     "output_type": "stream",
     "text": [
      "【日期時間】2019/07/04 13:59:46\n",
      "【主機名稱】Dale-NB (192.168.234.1)\n",
      "【工作目錄】D:\\(人工智慧)新課程研發區之標準教材\\【東吳推廣】05.神經網路與深度學習--使用Python(標準教材)\n",
      "【Python】Python 3.7.3\n",
      "【TensorFlow】Name: tensorflow , Version: 1.14.0\n"
     ]
    }
   ],
   "source": [
    "# -*- coding: utf-8 -*-\n",
    "import os, time, glob, socket\n",
    "import numpy as np\n",
    "import matplotlib.pyplot as plt\n",
    "# import tensorflow as tf\n",
    "\n",
    "tfVer = !pip show -V tensorflow\n",
    "pyVer = !python -V\n",
    "\n",
    "print(\"【日期時間】{}\".format(time.strftime(\"%Y/%m/%d %H:%M:%S\")))\n",
    "print(\"【主機名稱】{} ({})\".format(socket.gethostname(),socket.gethostbyname(socket.gethostname())))\n",
    "print(\"【工作目錄】{}\".format(os.getcwd()))\n",
    "print(\"【Python】{}\".format(pyVer[0]))\n",
    "print(\"【TensorFlow】{} , {}\".format(tfVer[0], tfVer[1]))"
   ]
  },
  {
   "cell_type": "markdown",
   "metadata": {},
   "source": [
    "### <a id=ann><font color=#0000FF>1. Artificial Neural Network(人工神經網路)</font></a>\n",
    "\n",
    "[HOME](#Home)"
   ]
  },
  {
   "cell_type": "markdown",
   "metadata": {},
   "source": [
    "[圖檔來源] \n",
    "- [Artificial Neural Networks: Man vs Machine?](https://groupfuturista.com/blog/artificial-neural-networks-man-vs-machine/)<br>\n",
    "---\n",
    "<img src=\"https://groupfuturista.com/blog/wp-content/uploads/2019/03/Artificial-Neural-Networks-Man-vs-Machine.jpeg\" width=400 height=400 align=left></img>"
   ]
  },
  {
   "cell_type": "markdown",
   "metadata": {},
   "source": [
    "#### <font color=#0000FF>How to update weights? (Propagation)</font>\n",
    "【圖檔來源】\n",
    "1. [Artificial Neural Networks and Gene Filtering Distinguish Between Global Gene Expression Profiles of Barrett’s Esophagus and Esophageal Cancer](http://cancerres.aacrjournals.org/content/62/12/3493)\n",
    "2. [A Step by Step Backpropagation Example](https://mattmazur.com/2015/03/17/a-step-by-step-backpropagation-example/)\n",
    "\n",
    "---\n",
    "<html><table align=left>\n",
    "    <tr><td><img src=\"http://cancerres.aacrjournals.org/content/canres/62/12/3493/F1.medium.gif\" width=300 height=300 align=left></img></td></tr>\n",
    "    <tr><td><img src=\"https://matthewmazur.files.wordpress.com/2018/03/neural_network-7.png\" width=300 height=300 align=left></img></td></tr>\n",
    "    <tr><td><img src=\"https://matthewmazur.files.wordpress.com/2018/03/output_1_backprop-4.png\" width=400 height=300 align=left></img></td></tr>\n",
    "</table></html>"
   ]
  },
  {
   "cell_type": "markdown",
   "metadata": {},
   "source": [
    "#### <font color=#0000FF>One-Hot Code</font>\n",
    "【Python的工具】\n",
    "- [sklearn.preprocessing.OneHotEncoder](https://scikit-learn.org/stable/modules/generated/sklearn.preprocessing.OneHotEncoder.html)\n",
    "---\n",
    "<img src=\"https://i.imgur.com/mtimFxh.png\" width=400 height=300 align=left></img>"
   ]
  },
  {
   "cell_type": "code",
   "execution_count": 6,
   "metadata": {},
   "outputs": [
    {
     "data": {
      "text/plain": [
       "OneHotEncoder(categorical_features=None, categories=None,\n",
       "       dtype=<class 'numpy.float64'>, handle_unknown='ignore',\n",
       "       n_values=None, sparse=True)"
      ]
     },
     "execution_count": 6,
     "metadata": {},
     "output_type": "execute_result"
    }
   ],
   "source": [
    "from sklearn.preprocessing import OneHotEncoder\n",
    "enc = OneHotEncoder(handle_unknown='ignore')\n",
    "X = [['Male', 1], ['Female', 3], ['Female', 2]]\n",
    "enc.fit(X)"
   ]
  },
  {
   "cell_type": "code",
   "execution_count": null,
   "metadata": {},
   "outputs": [],
   "source": []
  },
  {
   "cell_type": "markdown",
   "metadata": {},
   "source": [
    "### <a id=perceptron><font color=#0000FF>2. Perceptron(感知器)</font></a>\n",
    "    - Single Layer Perceptron, 單層感知器\n",
    "    - Multi-Layer Perceptron (MLP), 多層感知器\n",
    "    \n",
    "[HOME](#Home)"
   ]
  },
  {
   "cell_type": "markdown",
   "metadata": {},
   "source": [
    "<html>\n",
    "    <table align=left>\n",
    "        <tr><td><img src=\"https://www.researchgate.net/profile/Mahmoud_Parvizi/publication/265603127/figure/fig3/AS:392134126522391@1470503469920/The-EBF-single-layer-perceptron-neural-network-classifier-with-input-vector-X-ridge.png\" width=400 height=300>Single perceptron</img></td>\n",
    "            <td><img src=\"http://pubs.sciepub.com/ajmm/3/3/1/bigimage/fig5.png\" width=400 height=300>Multi-Layer perceptron </img></td></tr>\n",
    "    </table>\n",
    "</html>    "
   ]
  },
  {
   "cell_type": "markdown",
   "metadata": {},
   "source": [
    "<html><table align=left><tr><td colspan=2>\n",
    "<img src=\"https://www.jeremyjordan.me/content/images/2018/01/Screen-Shot-2017-11-07-at-12.53.07-PM.png\" width=800 height=600 align=left>矩陣運算</img></td></tr>\n",
    "<tr><td><img src=\"https://raw.githubusercontent.com/sausheong/gonn/master/imgs/weights.png\" width=400 height=400 align=left></img></td>\n",
    "<td><img src=\"https://www.researchgate.net/publication/299474560/figure/fig6/AS:349583008911366@1460358492284/An-example-of-a-deep-neural-network-with-two-hidden-layers-The-first-layer-is-the-input.png\" width=400 height=400 align=left></img></td></tr>\n",
    "</table></html>"
   ]
  },
  {
   "cell_type": "markdown",
   "metadata": {},
   "source": [
    "#### <font color=#0000FF>Activation Function(激活函數)</font>\n",
    "- [Activation Functions in Neural Networks](https://isaacchanghau.github.io/post/activation_functions/)<font color=#FF0000>【★★★★★】</font>"
   ]
  },
  {
   "cell_type": "markdown",
   "metadata": {},
   "source": [
    "<img src=\"https://isaacchanghau.github.io/img/deeplearning/activationfunction/neuralnetworkexample.png\" width=600 height=500 align=left></img>"
   ]
  },
  {
   "cell_type": "markdown",
   "metadata": {},
   "source": [
    "<html><table align=left>\n",
    "<tr><td colspan=2><img src=\"https://1.bp.blogspot.com/-_5_BKj15dnk/WLGpsU_WNuI/AAAAAAABPJw/tqpPiCERhuo9h4H1pFCG8RaWx-68OpUGQCLcB/s1600/activation.png\" width=700 height=600 align=left></img></td></tr>\n",
    "<tr><td>SoftMax Function</td>\n",
    "    <td><img src=\"https://isaacchanghau.github.io/img/deeplearning/activationfunction/softmax.png\" width=600 height=600 align=left></img></td></tr>\n",
    "</table></html>"
   ]
  },
  {
   "cell_type": "markdown",
   "metadata": {},
   "source": [
    "### <a id=propagation><font color=#0000FF>3. Propagation, 傳遞方式</font></a>\n",
    "- FeedForward : 前向傳遞 (Forward propagation)\n",
    "- Backpropagation : 反向傳遞 (Backward propagation), 是一種學習的方法\n",
    "- [10 Gradient Descent Optimisation Algorithms + Cheat Sheet](https://towardsdatascience.com/10-gradient-descent-optimisation-algorithms-86989510b5e9)\n",
    "    1. Stochastic Gradient Descent\n",
    "    2. Momentum\n",
    "    3. NAG\n",
    "    4. AdaGrad\n",
    "    5. RMSprop\n",
    "    6. Adadelta\n",
    "    7. Adam\n",
    "    8. AdaMax\n",
    "    9. Nadam\n",
    "    10. AMSGrad\n",
    "\n",
    "[HOME](#Home)"
   ]
  },
  {
   "cell_type": "markdown",
   "metadata": {},
   "source": [
    "#### <font color=#0000FF>Gradient Descent(梯度下降)</font>\n",
    "【圖檔來源】\n",
    "1. [Gradient Descent: All You Need to Know](https://hackernoon.com/gradient-descent-aynk-7cbe95a778da)\n",
    "2. [深度學習 --- 優化入門一（梯度下降所面臨的問題）](https://blog.csdn.net/weixin_42398658/article/details/84502215)\n",
    "---\n",
    "<html><table align=left>\n",
    "    <tr><td><img src=\"https://cdn-images-1.medium.com/max/1600/0*rBQI7uBhBKE8KT-X.png\" width=500 height=400 align=left></img></td>\n",
    "    <td><img src=\"https://cdn-images-1.medium.com/max/1600/0*8yzvd7QZLn5T1XWg.jpg\" width=250 height=200 align=left></img></td></tr>\n",
    "    <tr><td><img src=\"https://blog.paperspace.com/content/images/2018/05/challenges-1.png\" width=400 height=400 align=left></img></td></tr>\n",
    "</table></html>"
   ]
  },
  {
   "cell_type": "markdown",
   "metadata": {},
   "source": [
    "#### <font color=#0000FF>Learning Rate(學習率) $\\eta$</font>\n",
    "[資料來源]\n",
    "1. [Setting the learning rate of your neural network](https://www.jeremyjordan.me/nn-learning-rate/)\n",
    "2. [學習速率 learning rate](https://www.itread01.com/content/1544597402.html)<font color=#0000FF>【★★★★☆】</font>\n",
    "---\n",
    "<html><table align=left>\n",
    "    <tr><td><img src=\"https://www.jeremyjordan.me/content/images/2018/02/Screen-Shot-2018-02-24-at-11.47.09-AM.png\" width=700 height=400 align=left></img></td></tr>\n",
    "    <tr><td><img src=\"https://img-blog.csdnimg.cn/20181211221130521.png\" width=300 height=300 align=left></img></td></tr>\n",
    "</table></html>"
   ]
  },
  {
   "cell_type": "markdown",
   "metadata": {},
   "source": [
    "### <a id=mlp><font color=#0000FF>4. MLP</font></a>\n",
    "- [【李宏毅教授】ML Lecture 7: Backpropagation](https://www.youtube.com/watch?v=ibJpTrp5mcE) <font color=#FF0000>【★★★★★】</font>\n",
    "\n",
    "[HOME](#Home)"
   ]
  },
  {
   "cell_type": "code",
   "execution_count": null,
   "metadata": {},
   "outputs": [],
   "source": []
  },
  {
   "cell_type": "code",
   "execution_count": null,
   "metadata": {},
   "outputs": [],
   "source": []
  },
  {
   "cell_type": "code",
   "execution_count": null,
   "metadata": {},
   "outputs": [],
   "source": []
  },
  {
   "cell_type": "markdown",
   "metadata": {},
   "source": [
    "### <a id=deeplearning><font color=#0000FF>5. Deep Learning, 深度學習</font></a>\n",
    "- Convolutional Neural Networks(CNN, 卷積神經網路)\n",
    "- Recurrent Neural Networks(RNN, 遞歸神經網路)\n",
    "\n",
    "[HOME](#Home)"
   ]
  },
  {
   "cell_type": "markdown",
   "metadata": {},
   "source": [
    "### <font color=#0000FF>Convolutional Neural Networks(CNN, 卷積神經網路)</font>\n",
    "1. [卷積神經網路(Convolutional neural network, CNN) — 卷積運算、池化運算](https://medium.com/@chih.sheng.huang821/%E5%8D%B7%E7%A9%8D%E7%A5%9E%E7%B6%93%E7%B6%B2%E8%B7%AF-convolutional-neural-network-cnn-%E5%8D%B7%E7%A9%8D%E9%81%8B%E7%AE%97-%E6%B1%A0%E5%8C%96%E9%81%8B%E7%AE%97-856330c2b703)<font color=#FF0000>【★★★★★】</font>\n",
    "2. [卷積神經網路(Convolutional neural network, CNN) — CNN運算流程](https://medium.com/@chih.sheng.huang821/%E5%8D%B7%E7%A9%8D%E7%A5%9E%E7%B6%93%E7%B6%B2%E8%B7%AF-convolutional-neural-network-cnn-cnn%E9%81%8B%E7%AE%97%E6%B5%81%E7%A8%8B-ecaec240a631)<font color=#0000FF>【★★★☆☆】</font>\n",
    "3. [卷積神經網路(Convolutional neural network, CNN):卷積計算的倒傳遞推導與稀疏矩陣觀點來看卷積計算](https://medium.com/@chih.sheng.huang821/%E5%8D%B7%E7%A9%8D%E7%A5%9E%E7%B6%93%E7%B6%B2%E8%B7%AF-convolutional-neural-network-cnn-%E5%8D%B7%E7%A9%8D%E8%A8%88%E7%AE%97%E7%9A%84%E5%80%92%E5%82%B3%E9%81%9E%E6%8E%A8%E5%B0%8E%E8%88%87%E7%A8%80%E7%96%8F%E7%9F%A9%E9%99%A3%E8%A7%80%E9%BB%9E%E4%BE%86%E7%9C%8B%E5%8D%B7%E7%A9%8D%E8%A8%88%E7%AE%97-e82ac16e510f)<font color=#0000FF>【★★★☆☆】</font>\n",
    "4. [卷積神經網路(Convolutional neural network, CNN):卷積計算中的步伐(stride)和填充(padding)](https://medium.com/@chih.sheng.huang821/%E5%8D%B7%E7%A9%8D%E7%A5%9E%E7%B6%93%E7%B6%B2%E8%B7%AF-convolutional-neural-network-cnn-%E5%8D%B7%E7%A9%8D%E8%A8%88%E7%AE%97%E4%B8%AD%E7%9A%84%E6%AD%A5%E4%BC%90-stride-%E5%92%8C%E5%A1%AB%E5%85%85-padding-94449e638e82)<font color=#FF0000>【★★★★★】</font> \n",
    "    \n",
    "5. [卷積神經網路(Convolutional neural network, CNN): 1×1卷積計算在做什麼](https://medium.com/@chih.sheng.huang821/%E5%8D%B7%E7%A9%8D%E7%A5%9E%E7%B6%93%E7%B6%B2%E8%B7%AF-convolutional-neural-network-cnn-1-1%E5%8D%B7%E7%A9%8D%E8%A8%88%E7%AE%97%E5%9C%A8%E5%81%9A%E4%BB%80%E9%BA%BC-7d7ebfe34b8)<font color=#0000FF>【★★★☆☆】</font>\n",
    "\n",
    "---\n",
    "\n",
    "- [[機器學習 ML NOTE]Convolution Neural Network 卷積神經網路](https://medium.com/%E9%9B%9E%E9%9B%9E%E8%88%87%E5%85%94%E5%85%94%E7%9A%84%E5%B7%A5%E7%A8%8B%E4%B8%96%E7%95%8C/%E6%A9%9F%E5%99%A8%E5%AD%B8%E7%BF%92-ml-note-convolution-neural-network-%E5%8D%B7%E7%A9%8D%E7%A5%9E%E7%B6%93%E7%B6%B2%E8%B7%AF-bfa8566744e9)<font color=#FF0000>【★★★★★】</font>\n",
    "- [CNN Architectures: LeNet, AlexNet, VGG, GoogLeNet, ResNet and more ….](https://medium.com/@sidereal/cnns-architectures-lenet-alexnet-vgg-googlenet-resnet-and-more-666091488df5)<font color=#000000>【★☆☆☆☆】</font>\n",
    "- [Five Powerful CNN Architectures](https://medium.com/datadriveninvestor/five-powerful-cnn-architectures-b939c9ddd57b)<font color=#000000>【★☆☆☆☆】</font>"
   ]
  },
  {
   "cell_type": "markdown",
   "metadata": {},
   "source": [
    "1. Input Layer(輸入層) : \n",
    "2. `Convolution Layer(卷積層)` : 特徵擷取\n",
    "    - feature map(特徵圖)\n",
    "3. `Pooling Layer(池化層)` : 目的只是在將圖片資料量減少並保留重要資訊的方法，把原本的資料做一個最大化、最小化或是平均化的降維計算。\n",
    "    - Max Pooling\n",
    "    - Min Pooling\n",
    "    - Mean Pooling\n",
    "4. Flatten Layer(平坦層) : \n",
    "    - Fully Connection\n",
    "5. Hidden Layer(隱藏層) : \n",
    "6. Output Layer(輸出層) : \n",
    "\n",
    "---\n",
    "<img src=\"https://miro.medium.com/max/592/1*ZBZsvMbSGDgSuhMI5ZdUMA.png\" width=250 height=250 align=left></img>"
   ]
  },
  {
   "cell_type": "markdown",
   "metadata": {},
   "source": [
    "【資料來源】[TensorFlow+Keras深度學習人工智慧實務應用](http://www.drmaster.com.tw/Bookinfo.asp?BookID=MP21710) P.102\n",
    "<img src=\"Images\\MLP and CNN比較.jpg\" width=600 height=600 align=left></img>"
   ]
  },
  {
   "cell_type": "code",
   "execution_count": null,
   "metadata": {},
   "outputs": [],
   "source": []
  },
  {
   "cell_type": "markdown",
   "metadata": {},
   "source": [
    "#### <font color=#0000FF>濾鏡處理</font>"
   ]
  },
  {
   "cell_type": "code",
   "execution_count": null,
   "metadata": {},
   "outputs": [],
   "source": [
    "!pip install opencv-python"
   ]
  },
  {
   "cell_type": "code",
   "execution_count": 1,
   "metadata": {},
   "outputs": [],
   "source": [
    "import cv2\n",
    "import numpy as np\n",
    "import matplotlib.pyplot as plt"
   ]
  },
  {
   "cell_type": "code",
   "execution_count": 39,
   "metadata": {},
   "outputs": [
    {
     "name": "stdout",
     "output_type": "stream",
     "text": [
      "原圖的shape : (532, 480, 3)\n",
      "濾圖的shape : (532, 480, 3)\n",
      "濾圖的shape : (532, 480, 3)\n",
      "filter2 : \n",
      "[[ 0 -1  0]\n",
      " [-1  5 -1]\n",
      " [ 0 -1  0]]\n",
      "filter3 : \n",
      "[[-1 -1  0]\n",
      " [-1  0  1]\n",
      " [ 0  1  1]]\n"
     ]
    },
    {
     "data": {
      "image/png": "[encoded data removed]",
      "text/plain": [
       "<Figure size 432x288 with 3 Axes>"
      ]
     },
     "metadata": {
      "needs_background": "light"
     },
     "output_type": "display_data"
    }
   ],
   "source": [
    "#Load Image\n",
    "img = plt.imread(r'F:\\【東吳資管】人工智慧與TensorFlow\\Cat.jpg')\n",
    "\n",
    "#Convolution Kernel\n",
    "kernel2 = np.array([[ 0,-1, 0],\n",
    "                    [-1, 5,-1],\n",
    "                    [ 0,-1, 0]])\n",
    "kernel3 = np.array([[-1,-1,0],\n",
    "                    [-1, 0,1],\n",
    "                    [ 0, 1,1]])\n",
    "\n",
    "img2 = cv2.filter2D(img,-1,kernel2)            #濾鏡處理\n",
    "img3 = cv2.filter2D(img,-1,kernel3)            #濾鏡處理\n",
    "\n",
    "print('原圖的shape : {}'.format(img.shape))\n",
    "print('濾圖的shape : {}'.format(img2.shape))\n",
    "print('濾圖的shape : {}'.format(img3.shape))\n",
    "\n",
    "print('filter2 : \\n{}'.format(kernel2))\n",
    "print('filter3 : \\n{}'.format(kernel3))\n",
    "\n",
    "plt.subplot(1,3,1)\n",
    "plt.imshow(img)\n",
    "plt.axis('off')\n",
    "plt.title('Origin Image')\n",
    "\n",
    "plt.subplot(1,3,2)\n",
    "plt.imshow(img2)\n",
    "plt.axis('off')\n",
    "plt.title('Filtered Image')\n",
    "\n",
    "plt.subplot(1,3,3)\n",
    "plt.imshow(img3)\n",
    "plt.axis('off')\n",
    "plt.title('Filtered Image')\n",
    "\n",
    "plt.show()"
   ]
  },
  {
   "cell_type": "code",
   "execution_count": 1,
   "metadata": {},
   "outputs": [
    {
     "ename": "ModuleNotFoundError",
     "evalue": "No module named 'cv2'",
     "output_type": "error",
     "traceback": [
      "\u001b[1;31m---------------------------------------------------------------------------\u001b[0m",
      "\u001b[1;31mModuleNotFoundError\u001b[0m                       Traceback (most recent call last)",
      "\u001b[1;32m<ipython-input-1-c8ec22b3e787>\u001b[0m in \u001b[0;36m<module>\u001b[1;34m\u001b[0m\n\u001b[1;32m----> 1\u001b[1;33m \u001b[1;32mimport\u001b[0m \u001b[0mcv2\u001b[0m\u001b[1;33m\u001b[0m\u001b[0m\n\u001b[0m",
      "\u001b[1;31mModuleNotFoundError\u001b[0m: No module named 'cv2'"
     ]
    }
   ],
   "source": [
    "import cv2"
   ]
  },
  {
   "cell_type": "code",
   "execution_count": null,
   "metadata": {},
   "outputs": [],
   "source": []
  },
  {
   "cell_type": "markdown",
   "metadata": {},
   "source": [
    "### <font color=#0000FF>Recurrent Neural Networks(RNN, 遞歸神經網路)</font>"
   ]
  },
  {
   "cell_type": "markdown",
   "metadata": {},
   "source": [
    "【參考資料】\n",
    "- [深度學習(3)--循環神經網絡(RNN, Recurrent Neural Networks)](http://arbu00.blogspot.com/2017/05/3-rnn-recurrent-neural-networks.html)\n",
    "- [Building your Recurrent Neural Network - Step by Step](https://datascience-enthusiast.com/DL/Building_a_Recurrent_Neural_Network-Step_by_Step_v1.html) <font color=#FF0000>【★★★★★】</font>\n",
    "- []()"
   ]
  },
  {
   "cell_type": "markdown",
   "metadata": {},
   "source": [
    "【資料來源】[深度學習(3)--循環神經網絡(RNN, Recurrent Neural Networks)](http://arbu00.blogspot.com/2017/05/3-rnn-recurrent-neural-networks.html)\n",
    "<html>\n",
    "    <table align=left>\n",
    "        <tr><td><img src=\"https://3.bp.blogspot.com/-9cz6YIf-3Wk/WQ8C-7QNnOI/AAAAAAAAI8g/iFhXR9t3ii0UE9ZRXs425wR_HYJk9i7WgCLcB/s1600/RNN1.png\" width=600 height=400></img></td></tr>\n",
    "        <tr><td><img src=\"https://4.bp.blogspot.com/-U-b50pPNd_s/WQ8C-5g0siI/AAAAAAAAI8c/VCpWPA-z3Y8iTvLIhX6hlO83BqogFMu5ACLcB/s1600/RNN2.png\" width=600 height=400></img></td></tr>\n",
    "    </table>\n",
    "</html>    "
   ]
  },
  {
   "cell_type": "markdown",
   "metadata": {},
   "source": [
    "【資料來源】[Recurrent Neural Network (RNN) introduction](http://corochann.com/recurrent-neural-network-rnn-introduction-1286.html)\n",
    "<html>\n",
    "    <table align=left>\n",
    "        <tr><td><img src=\"http://corochann.com/wp-content/uploads/2017/05/rnn1_graph-800x460.png\" width=400 height=400></img></td></tr>\n",
    "        <tr><td><img src=\"http://corochann.com/wp-content/uploads/2017/05/rnn1_expand-700x400.png\" width=400 height=400></img></td></tr>        \n",
    "    </table>\n",
    "</html>    "
   ]
  },
  {
   "cell_type": "markdown",
   "metadata": {},
   "source": [
    "【Various types of Recurrent Neural Networks】\n",
    "[資料來源][The Unreasonable Effectiveness of Recurrent Neural Networks](http://karpathy.github.io/2015/05/21/rnn-effectiveness/)\n",
    "<html><table align=left>\n",
    "    <tr><td><img src=\"http://karpathy.github.io/assets/rnn/diags.jpeg\" width=600 height=500/></td></tr>\n",
    "</table></html>"
   ]
  },
  {
   "cell_type": "markdown",
   "metadata": {},
   "source": [
    "【資料來源】[Building your Recurrent Neural Network - Step by Step](https://datascience-enthusiast.com/DL/Building_a_Recurrent_Neural_Network-Step_by_Step_v1.html)<br>\n",
    "#### <font color=#0000FF>(1) Forward propagation for the basic Recurrent Neural Network</font>\n",
    "<html>\n",
    "    <table align=left>\n",
    "        <tr><td><img src=\"https://datascience-enthusiast.com/figures/rnn.png\" width=800 height=400></img></td></tr>\n",
    "        <tr><td><img src=\"https://datascience-enthusiast.com/figures/rnn_step_forward.png\" width=600 height=400></img></td></tr>        \n",
    "    </table>\n",
    "</html>   "
   ]
  },
  {
   "cell_type": "markdown",
   "metadata": {},
   "source": [
    "【資料來源】[Building your Recurrent Neural Network - Step by Step](https://datascience-enthusiast.com/DL/Building_a_Recurrent_Neural_Network-Step_by_Step_v1.html)<br>\n",
    "#### <font color=#0000FF>(2) Basic RNN backward pass</font>\n",
    "<html>\n",
    "    <table align=left>\n",
    "        <tr><td><img src=\"https://datascience-enthusiast.com/figures/rnn_cell_backprop.png\" width=800 height=400></img></td></tr>   \n",
    "    </table>\n",
    "</html>  "
   ]
  },
  {
   "cell_type": "code",
   "execution_count": null,
   "metadata": {},
   "outputs": [],
   "source": []
  },
  {
   "cell_type": "markdown",
   "metadata": {},
   "source": [
    "### <font color=#0000FF>Long Short-Term Memory Networks(LSTM, 長短期記憶網路--遞歸神經網路的一種)</font>"
   ]
  },
  {
   "cell_type": "markdown",
   "metadata": {},
   "source": [
    "【參考資料】\n",
    "- [[Keras] 利用Keras建構LSTM模型，以Stock Prediction 為例 1](https://medium.com/@daniel820710/%E5%88%A9%E7%94%A8keras%E5%BB%BA%E6%A7%8Blstm%E6%A8%A1%E5%9E%8B-%E4%BB%A5stock-prediction-%E7%82%BA%E4%BE%8B-1-67456e0a0b)\n",
    "- [Building your Recurrent Neural Network - Step by Step](https://datascience-enthusiast.com/DL/Building_a_Recurrent_Neural_Network-Step_by_Step_v1.html)\n",
    "\n",
    "---\n",
    "【線上教學】\n",
    "- [【李宏毅教授】ML Lecture 21-1: Recurrent Neural Network (Part I)](https://www.youtube.com/watch?v=xCGidAeyS4M)\n",
    "- [【李宏毅教授】ML Lecture 21-2: Recurrent Neural Network (Part II)](https://www.youtube.com/watch?v=rTqmWlnwz_0) "
   ]
  },
  {
   "cell_type": "markdown",
   "metadata": {},
   "source": [
    "【資料來源】[Building your Recurrent Neural Network - Step by Step](https://datascience-enthusiast.com/DL/Building_a_Recurrent_Neural_Network-Step_by_Step_v1.html)<br>\n",
    "#### <font color=#0000FF>(1) Forward pass for LSTM</font>\n",
    "<html>\n",
    "    <table align=left>\n",
    "        <tr><td><img src=\"https://datascience-enthusiast.com/figures/LSTM_rnn.png\" width=1000 height=600></img></td></tr>\n",
    "    </table>\n",
    "</html>  "
   ]
  },
  {
   "cell_type": "code",
   "execution_count": null,
   "metadata": {},
   "outputs": [],
   "source": []
  },
  {
   "cell_type": "code",
   "execution_count": null,
   "metadata": {},
   "outputs": [],
   "source": []
  },
  {
   "cell_type": "code",
   "execution_count": null,
   "metadata": {},
   "outputs": [],
   "source": []
  },
  {
   "cell_type": "code",
   "execution_count": null,
   "metadata": {},
   "outputs": [],
   "source": []
  },
  {
   "cell_type": "markdown",
   "metadata": {},
   "source": [
    "### <font color=#0000FF>Gated Recurrent Unit(GRU, 循環門單元--遞歸神經網路的一種)</font>"
   ]
  },
  {
   "cell_type": "code",
   "execution_count": null,
   "metadata": {},
   "outputs": [],
   "source": []
  },
  {
   "cell_type": "code",
   "execution_count": null,
   "metadata": {},
   "outputs": [],
   "source": []
  },
  {
   "cell_type": "code",
   "execution_count": null,
   "metadata": {},
   "outputs": [],
   "source": []
  }
 ],
 "metadata": {
  "kernelspec": {
   "display_name": "Python 3",
   "language": "python",
   "name": "python3"
  },
  "language_info": {
   "codemirror_mode": {
    "name": "ipython",
    "version": 3
   },
   "file_extension": ".py",
   "mimetype": "text/x-python",
   "name": "python",
   "nbconvert_exporter": "python",
   "pygments_lexer": "ipython3",
   "version": "3.6.9"
  }
 },
 "nbformat": 4,
 "nbformat_minor": 2
}
