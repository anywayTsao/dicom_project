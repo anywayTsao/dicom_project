{
 "cells": [
  {
   "cell_type": "code",
   "execution_count": 7,
   "metadata": {
    "scrolled": true
   },
   "outputs": [
    {
     "name": "stdout",
     "output_type": "stream",
     "text": [
      "dicom length = 127\n"
     ]
    }
   ],
   "source": [
    "import pickle\n",
    "# load a file to a variable\n",
    "with open('C:/ntpu_project/pickle_example.pickle', 'rb') as file:\n",
    "    dicom_list = pickle.load(file)\n",
    "\n",
    "print(f'dicom length = {len(dicom_list)}')"
   ]
  },
  {
   "cell_type": "code",
   "execution_count": 8,
   "metadata": {},
   "outputs": [],
   "source": [
    "# model training\n",
    "import traceback\n",
    "import numpy as np\n",
    "from sklearn.model_selection import train_test_split\n",
    "from sklearn.preprocessing import OneHotEncoder\n",
    "from tensorflow.keras.utils import to_categorical"
   ]
  },
  {
   "cell_type": "code",
   "execution_count": 9,
   "metadata": {},
   "outputs": [],
   "source": [
    "# prepair data for CNN\n",
    "all_imgs = [np.expand_dims(dicom.standardlize(), axis=2) for dicom in dicom_list]\n",
    "x = np.stack(all_imgs)\n",
    "# 標記 edge 到 y 中\n",
    "y = list()\n",
    "for dicom in dicom_list:\n",
    "    temp_y = []\n",
    "    if dicom.is_same_examination_result:\n",
    "        temp_y.append(1)\n",
    "    else:\n",
    "        temp_y.append(0)\n",
    "    y.append(temp_y)\n",
    "#     img_y = np.zeros(np.shape(dicom.pixel_array))\n",
    "#     edge = np.array([[int(edge.x), int(edge.y)] for edge in dicom.nodule_list[0].edge_map_list])\n",
    "#     img_y[tuple(edge.T)] = 1\n",
    "#     img_y = np.expand_dims(img_y, axis=2)\n",
    "#     y.append(img_y)\n",
    "    \n",
    "# for edge in dicom.nodule_list[0].edge_map_list:\n",
    "#     print(y[int(edge.x), int(edge.y)])"
   ]
  },
  {
   "cell_type": "code",
   "execution_count": 10,
   "metadata": {},
   "outputs": [],
   "source": [
    "# release memory\n",
    "del all_imgs\n",
    "del dicom_list"
   ]
  },
  {
   "cell_type": "code",
   "execution_count": 11,
   "metadata": {
    "scrolled": true
   },
   "outputs": [
    {
     "name": "stdout",
     "output_type": "stream",
     "text": [
      "(127, 128, 128, 1)\n",
      "(127, 1)\n",
      "18\n"
     ]
    }
   ],
   "source": [
    "print(np.shape(x))\n",
    "print(np.shape(y))\n",
    "print(np.sum(y))"
   ]
  },
  {
   "cell_type": "code",
   "execution_count": 12,
   "metadata": {
    "scrolled": true
   },
   "outputs": [],
   "source": [
    "x_train, x_test, y_train, y_test = train_test_split(x, y, test_size=0.2, random_state=2100, shuffle=True)\n",
    "y_train_onehot = to_categorical(y_train)\n",
    "y_test_onehot = to_categorical(y_test)"
   ]
  },
  {
   "cell_type": "code",
   "execution_count": 13,
   "metadata": {},
   "outputs": [],
   "source": [
    "# release memory\n",
    "del x\n",
    "del y"
   ]
  },
  {
   "cell_type": "code",
   "execution_count": 14,
   "metadata": {},
   "outputs": [
    {
     "name": "stdout",
     "output_type": "stream",
     "text": [
      "(101, 128, 128, 1)\n",
      "(101, 1)\n",
      "(26, 128, 128, 1)\n",
      "(26, 1)\n"
     ]
    }
   ],
   "source": [
    "print(np.shape(x_train))\n",
    "print(np.shape(y_train))\n",
    "print(np.shape(x_test))\n",
    "print(np.shape(y_test))"
   ]
  },
  {
   "cell_type": "code",
   "execution_count": 15,
   "metadata": {},
   "outputs": [],
   "source": [
    "import tensorflow.compat.v1 as tf\n",
    "# import tensorflow as tf\n",
    "import tensorflow.keras as keras\n",
    "from tensorflow.keras import layers\n",
    "from tensorflow.keras.models import Sequential\n",
    "from tensorflow.keras.layers import Dense, Dropout, Flatten, Conv2D, MaxPooling2D\n",
    "\n",
    "gpu_options = tf.GPUOptions(per_process_gpu_memory_fraction=0.75, allow_growth=True)\n",
    "sess = tf.InteractiveSession(config=tf.ConfigProto(gpu_options=gpu_options))\n",
    "tf.keras.backend.set_session(sess)"
   ]
  },
  {
   "cell_type": "code",
   "execution_count": 16,
   "metadata": {},
   "outputs": [
    {
     "name": "stdout",
     "output_type": "stream",
     "text": [
      "(128, 128, 1)\n"
     ]
    }
   ],
   "source": [
    "input_shape = np.shape(x_train[0])\n",
    "print(input_shape)\n",
    "batch_size = 10\n",
    "epochs = 10\n",
    "num_classes = 2"
   ]
  },
  {
   "cell_type": "code",
   "execution_count": 17,
   "metadata": {},
   "outputs": [
    {
     "name": "stdout",
     "output_type": "stream",
     "text": [
      "Model: \"sequential\"\n",
      "_________________________________________________________________\n",
      "Layer (type)                 Output Shape              Param #   \n",
      "=================================================================\n",
      "conv2d (Conv2D)              (None, 128, 128, 16)      80        \n",
      "_________________________________________________________________\n",
      "max_pooling2d (MaxPooling2D) (None, 64, 64, 16)        0         \n",
      "_________________________________________________________________\n",
      "conv2d_1 (Conv2D)            (None, 64, 64, 32)        2080      \n",
      "_________________________________________________________________\n",
      "max_pooling2d_1 (MaxPooling2 (None, 32, 32, 32)        0         \n",
      "_________________________________________________________________\n",
      "dropout (Dropout)            (None, 32, 32, 32)        0         \n",
      "_________________________________________________________________\n",
      "flatten (Flatten)            (None, 32768)             0         \n",
      "_________________________________________________________________\n",
      "dense (Dense)                (None, 128)               4194432   \n",
      "_________________________________________________________________\n",
      "dropout_1 (Dropout)          (None, 128)               0         \n",
      "_________________________________________________________________\n",
      "dense_1 (Dense)              (None, 2)                 258       \n",
      "=================================================================\n",
      "Total params: 4,196,850\n",
      "Trainable params: 4,196,850\n",
      "Non-trainable params: 0\n",
      "_________________________________________________________________\n",
      "None\n"
     ]
    }
   ],
   "source": [
    "# 建立簡單的線性執行的模型\n",
    "model = Sequential()\n",
    "# 建立卷積層，filter=16,即 output space 的深度, Kernal Size: 5x5, activation function 採用 relu\n",
    "model.add(Conv2D(filters=16, \n",
    "                 kernel_size=(2, 2),\n",
    "                 padding=\"same\",\n",
    "                 activation='relu',\n",
    "                 input_shape=input_shape))\n",
    "# 建立池化層，池化大小=2x2，取最大值\n",
    "model.add(MaxPooling2D(pool_size=(2, 2)))\n",
    "\n",
    "model.add(Conv2D(filters=32, \n",
    "                 kernel_size=(2, 2),\n",
    "                 padding=\"same\",\n",
    "                 activation='relu',\n",
    "                 input_shape=input_shape))\n",
    "\n",
    "model.add(MaxPooling2D(pool_size=(2, 2)))\n",
    "\n",
    "# Dropout層隨機斷開輸入神經元，用於防止過度擬合，斷開比例:0.25\n",
    "model.add(Dropout(0.25))\n",
    "\n",
    "# Flatten層把多維的輸入一維化，常用在從卷積層到全連接層的過渡。\n",
    "model.add(Flatten())\n",
    "\n",
    "# 全連接層: 128個output\n",
    "model.add(Dense(128, activation='relu'))\n",
    "\n",
    "# Dropout層隨機斷開輸入神經元，用於防止過度擬合，斷開比例:0.25\n",
    "model.add(Dropout(0.25))\n",
    "\n",
    "# 使用 softmax activation function，將結果分類\n",
    "model.add(Dense(num_classes, activation='softmax'))\n",
    "\n",
    "# 編譯: 選擇損失函數、優化方法及成效衡量方式\n",
    "model.compile(loss=\"categorical_crossentropy\",\n",
    "              optimizer=\"adam\",\n",
    "              metrics=['accuracy'])\n",
    "\n",
    "print(model.summary()) "
   ]
  },
  {
   "cell_type": "code",
   "execution_count": 18,
   "metadata": {},
   "outputs": [
    {
     "name": "stdout",
     "output_type": "stream",
     "text": [
      "Train on 101 samples\n",
      "Epoch 1/10\n",
      "101/101 [==============================] - 2s 22ms/sample - loss: 0.5274 - accuracy: 0.7921\n",
      "Epoch 2/10\n",
      "101/101 [==============================] - 0s 537us/sample - loss: 0.4621 - accuracy: 0.8614\n",
      "Epoch 3/10\n",
      "101/101 [==============================] - 0s 540us/sample - loss: 0.4420 - accuracy: 0.8515\n",
      "Epoch 4/10\n",
      "101/101 [==============================] - 0s 542us/sample - loss: 0.4157 - accuracy: 0.8515\n",
      "Epoch 5/10\n",
      "101/101 [==============================] - 0s 545us/sample - loss: 0.3461 - accuracy: 0.8515\n",
      "Epoch 6/10\n",
      "101/101 [==============================] - 0s 536us/sample - loss: 0.3411 - accuracy: 0.8515\n",
      "Epoch 7/10\n",
      "101/101 [==============================] - 0s 531us/sample - loss: 0.3235 - accuracy: 0.8812\n",
      "Epoch 8/10\n",
      "101/101 [==============================] - 0s 495us/sample - loss: 0.2446 - accuracy: 0.9010\n",
      "Epoch 9/10\n",
      "101/101 [==============================] - 0s 504us/sample - loss: 0.2350 - accuracy: 0.8812\n",
      "Epoch 10/10\n",
      "101/101 [==============================] - 0s 486us/sample - loss: 0.2573 - accuracy: 0.8713\n",
      "Test loss: 0.24708174169063568\n",
      "Test accuracy: 0.88461536\n"
     ]
    }
   ],
   "source": [
    "# 進行訓練, 訓練過程會存在 train_history 變數中\n",
    "\n",
    "train_history = model.fit(x_train, \n",
    "                          y_train_onehot,\n",
    "                          batch_size=batch_size,\n",
    "                          epochs=epochs,\n",
    "                          verbose=1)\n",
    "\n",
    "# 顯示損失函數、訓練成果(分數)\n",
    "score = model.evaluate(x_test, y_test_onehot, verbose=0)\n",
    "print('Test loss:', score[0])\n",
    "print('Test accuracy:', score[1])"
   ]
  },
  {
   "cell_type": "code",
   "execution_count": 1,
   "metadata": {},
   "outputs": [],
   "source": [
    "par1={\n",
    "    'Validation': 0.2, \n",
    "    'epoch': 40, \n",
    "    'Batch': 10\n",
    "}\n",
    "par = {\n",
    "    'filter1':64,\n",
    "    'filter2':128,\n",
    "    'strides':1,\n",
    "    'kernel': 2,\n",
    "    'dropout1':0.5,\n",
    "    'dropout2':0.5,\n",
    "    'Neural':256\n",
    "}\n",
    "\n",
    "def DL_fun1(par,par1,x_train,y_train,x_test,y_test):\n",
    "    result = None\n",
    "    nf=par['filter1']\n",
    "    nf1=par['filter2']\n",
    "    ks=par['kernel']\n",
    "    hs=np.shape(x)[1]\n",
    "    ws=np.shape(x)[2]\n",
    "    dr1=par['dropout1']\n",
    "    dr2=par['dropout2']\n",
    "    nn=par['Neural']\n",
    "    vsr=par1['Validation']\n",
    "    epn=par1['epoch']\n",
    "    bs=par1['Batch']\n",
    "    y_train_onehot = to_categorical(y_train)\n",
    "    y_test_onehot = to_categorical(y_test)\n",
    "    try:\n",
    "        # 只使用 80% 的 GPU 記憶體config = tf.ConfigProto()\n",
    "#         gpu_options = tf.GPUOptions(per_process_gpu_memory_fraction=0.5, allow_growth=True)\n",
    "#         sess = tf.InteractiveSession(config=tf.ConfigProto(gpu_options=gpu_options))\n",
    "#         tf.keras.backend.set_session(sess)\n",
    "\n",
    "        model = Sequential([\n",
    "            Conv2D(filters=nf,kernel_size=(ks,ks),strides=(par['strides'],par['strides']),padding='same',input_shape=(hs,ws,1),activation='relu'),\n",
    "            MaxPooling2D(pool_size=(2,2)),\n",
    "            Conv2D(filters=nf1,kernel_size=(ks,ks),strides=(par['strides'],par['strides']),padding='same',input_shape=(hs,ws,1),activation='relu'),\n",
    "            MaxPooling2D(pool_size=(2,2)),\n",
    "            Dropout(dr1),\n",
    "            Flatten(),\n",
    "            Dense(nn, activation='relu'),\n",
    "            Dropout(dr2),\n",
    "            Dense(3,activation='softmax'),\n",
    "        ])\n",
    "        model.compile(loss='categorical_crossentropy',optimizer='adam',metrics=['accuracy'])\n",
    "        print(model.summary()) \n",
    "        train_history=model.fit(x=x_train,\n",
    "                                y=y_train_onehot,\n",
    "                                validation_split=vsr,\n",
    "                                epochs=epn,\n",
    "                                batch_size=bs,\n",
    "                                verbose=2)\n",
    "        scores=model.evaluate(x=x_test,y=y_test_onehot)\n",
    "        result={'History':train_history, 'Score': scores}\n",
    "        print(result)\n",
    "    except Exception as e:\n",
    "        print(traceback.format_exc())\n",
    "    finally:\n",
    "#         sess.close()\n",
    "        pass\n",
    "    return result"
   ]
  },
  {
   "cell_type": "code",
   "execution_count": null,
   "metadata": {
    "scrolled": false
   },
   "outputs": [],
   "source": [
    "result=DL_fun1(par,par1,x_train,y_train,x_test,y_test)"
   ]
  },
  {
   "cell_type": "code",
   "execution_count": 41,
   "metadata": {},
   "outputs": [
    {
     "name": "stdout",
     "output_type": "stream",
     "text": [
      "None\n"
     ]
    }
   ],
   "source": [
    "print(result)"
   ]
  },
  {
   "cell_type": "code",
   "execution_count": null,
   "metadata": {},
   "outputs": [],
   "source": []
  }
 ],
 "metadata": {
  "kernelspec": {
   "display_name": "Python 3",
   "language": "python",
   "name": "python3"
  },
  "language_info": {
   "codemirror_mode": {
    "name": "ipython",
    "version": 3
   },
   "file_extension": ".py",
   "mimetype": "text/x-python",
   "name": "python",
   "nbconvert_exporter": "python",
   "pygments_lexer": "ipython3",
   "version": "3.7.7"
  }
 },
 "nbformat": 4,
 "nbformat_minor": 2
}
