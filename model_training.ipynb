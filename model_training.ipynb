{
 "cells": [
  {
   "cell_type": "code",
   "execution_count": 1,
   "metadata": {
    "scrolled": true
   },
   "outputs": [],
   "source": [
    "import pickle\n",
    "# load a file to a variable\n",
    "with open('C:/ntpu_project/dicom_label2.pickle', 'rb') as file:\n",
    "    pickle_dict = pickle.load(file)"
   ]
  },
  {
   "cell_type": "code",
   "execution_count": 2,
   "metadata": {},
   "outputs": [],
   "source": [
    "label0 = pickle_dict.get('label0')\n",
    "label1 = pickle_dict.get('label1')"
   ]
  },
  {
   "cell_type": "code",
   "execution_count": 3,
   "metadata": {},
   "outputs": [
    {
     "name": "stdout",
     "output_type": "stream",
     "text": [
      "len label0 = 4856\n",
      "len label1 = 1835\n"
     ]
    }
   ],
   "source": [
    "print(f'len label0 = {len(label0)}')\n",
    "print(f'len label1 = {len(label1)}')"
   ]
  },
  {
   "cell_type": "code",
   "execution_count": 4,
   "metadata": {},
   "outputs": [],
   "source": [
    "# model training\n",
    "import traceback\n",
    "import numpy as np\n",
    "from sklearn.model_selection import train_test_split\n",
    "from sklearn.preprocessing import OneHotEncoder\n",
    "from tensorflow.keras.utils import to_categorical"
   ]
  },
  {
   "cell_type": "code",
   "execution_count": 5,
   "metadata": {},
   "outputs": [],
   "source": [
    "# prepair data for CNN\n",
    "x = list()\n",
    "y = list()\n",
    "all_imgs = list()\n",
    "\n",
    "for dicom in label0:\n",
    "    all_imgs.append(np.expand_dims(dicom.standardlize(), axis=2))\n",
    "    y.append([1])\n",
    "\n",
    "for dicom in label1:\n",
    "    all_imgs.append(np.expand_dims(dicom.standardlize(), axis=2))\n",
    "    y.append([0])\n",
    "    \n",
    "y = np.array(y)\n",
    "x = np.stack(all_imgs)"
   ]
  },
  {
   "cell_type": "code",
   "execution_count": 6,
   "metadata": {
    "scrolled": true
   },
   "outputs": [
    {
     "name": "stdout",
     "output_type": "stream",
     "text": [
      "<class 'numpy.ndarray'>\n",
      "(6691, 128, 128, 1)\n",
      "<class 'numpy.ndarray'>\n",
      "(6691, 1)\n",
      "4856\n"
     ]
    }
   ],
   "source": [
    "print(type(x))\n",
    "print(np.shape(x))\n",
    "print(type(y))\n",
    "print(np.shape(y))\n",
    "print(np.sum(y))"
   ]
  },
  {
   "cell_type": "code",
   "execution_count": 7,
   "metadata": {
    "scrolled": true
   },
   "outputs": [
    {
     "name": "stdout",
     "output_type": "stream",
     "text": [
      "1835\n"
     ]
    }
   ],
   "source": [
    "print(len(y)-np.sum(y))"
   ]
  },
  {
   "cell_type": "code",
   "execution_count": 8,
   "metadata": {},
   "outputs": [
    {
     "name": "stdout",
     "output_type": "stream",
     "text": [
      "(1835, 128, 128, 1)\n",
      "(1835, 1)\n",
      "(1835, 128, 128, 1)\n",
      "(1835, 1)\n",
      "(3670, 128, 128, 1)\n",
      "(3670, 1)\n"
     ]
    }
   ],
   "source": [
    "import random\n",
    "\n",
    "index_list = random.sample(range(len(x)),1835)  # non-nodule 與 nodule 的樣本數需取一樣\n",
    "\n",
    "x_control = x[index_list]\n",
    "y_control = y[index_list]\n",
    "\n",
    "print(np.shape(x_control))\n",
    "print(np.shape(y_control))\n",
    "\n",
    "tempx = list()\n",
    "tempy = list()\n",
    "for i, result in enumerate(y):\n",
    "    if result[0] == 0:\n",
    "        tempx.append(x[i])\n",
    "        tempy.append(result)\n",
    "\n",
    "print(np.shape(tempx))\n",
    "print(np.shape(tempy))\n",
    "        \n",
    "x_control = np.append(x_control, np.array(tempx), axis=0)\n",
    "y_control = np.append(y_control, np.array(tempy), axis=0)\n",
    "\n",
    "print(np.shape(x_control))\n",
    "print(np.shape(y_control))"
   ]
  },
  {
   "cell_type": "code",
   "execution_count": 9,
   "metadata": {
    "scrolled": true
   },
   "outputs": [],
   "source": [
    "x_train, x_test, y_train, y_test = train_test_split(x_control, y_control, test_size=0.2, random_state=2100, shuffle=True)\n",
    "y_train_onehot = to_categorical(y_train)\n",
    "y_test_onehot = to_categorical(y_test)"
   ]
  },
  {
   "cell_type": "code",
   "execution_count": 10,
   "metadata": {
    "scrolled": false
   },
   "outputs": [
    {
     "name": "stdout",
     "output_type": "stream",
     "text": [
      "(2936, 128, 128, 1)\n",
      "(2936, 1)\n",
      "(2936, 2)\n",
      "1083\n",
      "(734, 128, 128, 1)\n",
      "(734, 1)\n",
      "(734, 2)\n",
      "249\n"
     ]
    }
   ],
   "source": [
    "print(np.shape(x_train))\n",
    "print(np.shape(y_train))\n",
    "print(np.shape(y_train_onehot))\n",
    "print(np.sum(y_train))\n",
    "\n",
    "print(np.shape(x_test))\n",
    "print(np.shape(y_test))\n",
    "print(np.shape(y_test_onehot))\n",
    "print(np.sum(y_test))"
   ]
  },
  {
   "cell_type": "code",
   "execution_count": 11,
   "metadata": {
    "scrolled": true
   },
   "outputs": [],
   "source": [
    "from utils.keras import CnnModel, show_train_history\n",
    "from utils.focal_loss import multi_category_focal_loss2"
   ]
  },
  {
   "cell_type": "code",
   "execution_count": 12,
   "metadata": {},
   "outputs": [],
   "source": [
    "# cnn_model = CnnModel(x_train, y_train_onehot, x_test, y_test_onehot)\n",
    "cnn_model = CnnModel(x_train, y_train_onehot, x_test, y_test_onehot, [multi_category_focal_loss2()])"
   ]
  },
  {
   "cell_type": "code",
   "execution_count": 13,
   "metadata": {},
   "outputs": [],
   "source": [
    "# prepairing model config\n",
    "config_list = list()\n",
    "config_list.append({\n",
    "        'conv2D_config_list': [\n",
    "            {'filters': 128, 'kernel_size': (3, 3), 'input_shape': (128, 128, 1), 'strides': 2},\n",
    "            {'filters': 128, 'kernel_size': (3, 3), 'input_shape': (128, 128, 1), 'strides': 2},\n",
    "        ],\n",
    "        'dense_config_list': [\n",
    "            {'unit': 64},\n",
    "            {'unit': 64},\n",
    "        ]\n",
    "    })"
   ]
  },
  {
   "cell_type": "code",
   "execution_count": 15,
   "metadata": {},
   "outputs": [
    {
     "name": "stdout",
     "output_type": "stream",
     "text": [
      "===processing model 1===\n",
      "Train on 2348 samples, validate on 588 samples\n",
      "Epoch 1/10\n",
      "2348/2348 [==============================] - 1s 517us/sample - loss: 0.0839 - accuracy: 0.6107 - val_loss: 0.0825 - val_accuracy: 0.6480\n",
      "Epoch 2/10\n",
      "2348/2348 [==============================] - 1s 265us/sample - loss: 0.0821 - accuracy: 0.6269 - val_loss: 0.0809 - val_accuracy: 0.6480\n",
      "Epoch 3/10\n",
      "2348/2348 [==============================] - 1s 263us/sample - loss: 0.0809 - accuracy: 0.6273 - val_loss: 0.0808 - val_accuracy: 0.6480\n",
      "Epoch 4/10\n",
      "2348/2348 [==============================] - 1s 260us/sample - loss: 0.0797 - accuracy: 0.6380 - val_loss: 0.0793 - val_accuracy: 0.6684\n",
      "Epoch 5/10\n",
      "2348/2348 [==============================] - 1s 272us/sample - loss: 0.0768 - accuracy: 0.6580 - val_loss: 0.0793 - val_accuracy: 0.6633\n",
      "Epoch 6/10\n",
      "2348/2348 [==============================] - 1s 264us/sample - loss: 0.0721 - accuracy: 0.7070 - val_loss: 0.0819 - val_accuracy: 0.6599\n",
      "Epoch 7/10\n",
      "2348/2348 [==============================] - 1s 264us/sample - loss: 0.0684 - accuracy: 0.7317 - val_loss: 0.0794 - val_accuracy: 0.6565\n",
      "Epoch 8/10\n",
      "2348/2348 [==============================] - 1s 263us/sample - loss: 0.0622 - accuracy: 0.7781 - val_loss: 0.0847 - val_accuracy: 0.5986\n",
      "Epoch 9/10\n",
      "2348/2348 [==============================] - 1s 264us/sample - loss: 0.0549 - accuracy: 0.8088 - val_loss: 0.0872 - val_accuracy: 0.6820\n",
      "Epoch 10/10\n",
      "2348/2348 [==============================] - 1s 264us/sample - loss: 0.0463 - accuracy: 0.8437 - val_loss: 0.0925 - val_accuracy: 0.6752\n",
      "Train accuracy: 0.8436968\n",
      "Train loss: 0.0463349784468975\n",
      "Test accuracy: 0.6852861\n",
      "Test loss: 0.09119576138599042\n",
      "Sensitivity: 0.8041237113402062\n",
      "Specificity: 0.4538152610441767\n",
      "===file output to model_result-model_result_20200624024323.txt.txt===\n",
      "==============================\n"
     ]
    }
   ],
   "source": [
    "train_history_list = list()\n",
    "\n",
    "for i, config in enumerate(config_list):\n",
    "    print(f'===processing model {(i+1)}===')\n",
    "    train_history_list.append(cnn_model.run(i, 100, 10, config['conv2D_config_list'], config['dense_config_list'], 1))\n",
    "#     print(f'=============111=================')\n",
    "#     train_history_list.append(cnn_model.run(i, 200, 20, config['conv2D_config_list'], config['dense_config_list']))\n",
    "#     print(f'==============================')\n",
    "#     train_history_list.append(cnn_model.run(i, 200, 30, config['conv2D_config_list'], config['dense_config_list']))\n",
    "#     print(f'==============================')\n",
    "#     train_history_list.append(cnn_model.run(i, 200, 40, config['conv2D_config_list'], config['dense_config_list']))\n",
    "    print(f'==============================')\n"
   ]
  },
  {
   "cell_type": "code",
   "execution_count": 17,
   "metadata": {},
   "outputs": [
    {
     "data": {
      "image/png": "[encoded data removed]",
      "text/plain": [
       "<Figure size 432x288 with 1 Axes>"
      ]
     },
     "metadata": {
      "needs_background": "light"
     },
     "output_type": "display_data"
    }
   ],
   "source": [
    "for train_history in train_history_list:\n",
    "    show_train_history(train_history)"
   ]
  },
  {
   "cell_type": "code",
   "execution_count": null,
   "metadata": {},
   "outputs": [],
   "source": []
  },
  {
   "cell_type": "code",
   "execution_count": null,
   "metadata": {},
   "outputs": [],
   "source": []
  },
  {
   "cell_type": "code",
   "execution_count": null,
   "metadata": {},
   "outputs": [],
   "source": [
    "index = 0\n",
    "conv2D_config_list = [\n",
    "    {'filters': 16, 'kernel_size': (2, 2), 'input_shape': (128, 128, 1), 'strides': (2, 2)},\n",
    "    {'filters': 32, 'kernel_size': (2, 2), 'input_shape': (128, 128, 1), 'strides': (2, 2)}\n",
    "]\n",
    "dense_config_list = [\n",
    "    {'unit': 128},\n",
    "    {'unit': 128}\n",
    "]\n",
    "train_history = cnn_model.run(index=index, batch_size=100, epochs=10, conv2D_config_list=conv2D_config_list, dense_config_list=dense_config_list)\n",
    "train_history_list.append(train_history)"
   ]
  },
  {
   "cell_type": "code",
   "execution_count": 11,
   "metadata": {},
   "outputs": [],
   "source": [
    "import tensorflow.compat.v1 as tf\n",
    "# import tensorflow as tf\n",
    "import tensorflow.keras as keras\n",
    "from tensorflow.keras import layers\n",
    "from tensorflow.keras.models import Sequential\n",
    "from tensorflow.keras.layers import Dense, Dropout, Flatten, Conv2D, MaxPooling2D\n",
    "import tensorflow.keras.backend as K\n",
    "\n",
    "gpu_options = tf.GPUOptions(per_process_gpu_memory_fraction=0.75, allow_growth=True)\n",
    "sess = tf.InteractiveSession(config=tf.ConfigProto(gpu_options=gpu_options))\n",
    "tf.keras.backend.set_session(sess)"
   ]
  },
  {
   "cell_type": "code",
   "execution_count": 16,
   "metadata": {},
   "outputs": [],
   "source": [
    "# https://stackoverflow.com/questions/51298992/binary-classifier-keras-callback-for-sensitivity-and-specificity\n",
    "\n",
    "def output_sensitivity_specificity(x_test, y_test):\n",
    "    y_test = np.argmax(y_test, axis=-1)\n",
    "    predictions = model.predict(x_test)\n",
    "    predictions = np.argmax(predictions, axis=-1)\n",
    "\n",
    "    c = confusion_matrix(y_test, predictions)\n",
    "    print('Confusion matrix:\\n', c)\n",
    "    print(f'sensitivity = {c[0, 0] / (c[0, 1] + c[0, 0])}')\n",
    "    print(f'specificity = {c[1, 1] / (c[1, 1] + c[1, 0])}')"
   ]
  },
  {
   "cell_type": "code",
   "execution_count": 52,
   "metadata": {},
   "outputs": [
    {
     "name": "stdout",
     "output_type": "stream",
     "text": [
      "(128, 128, 1)\n"
     ]
    }
   ],
   "source": [
    "input_shape = np.shape(x_train[0])\n",
    "print(input_shape)\n",
    "batch_size = 100\n",
    "epochs = 10\n",
    "num_classes = 2"
   ]
  },
  {
   "cell_type": "code",
   "execution_count": 53,
   "metadata": {},
   "outputs": [],
   "source": [
    "# loss_func = SparseCategoricalFocalLoss(gamma=2)\n",
    "# y_true = [0, 1, 2]\n",
    "# y_pred = [[0.8, 0.1, 0.1], [0.2, 0.7, 0.1], [0.2, 0.2, 0.6]]\n",
    "# loss_func(y_true, y_pred)"
   ]
  },
  {
   "cell_type": "code",
   "execution_count": 71,
   "metadata": {
    "scrolled": true
   },
   "outputs": [
    {
     "name": "stdout",
     "output_type": "stream",
     "text": [
      "Model: \"sequential_9\"\n",
      "_________________________________________________________________\n",
      "Layer (type)                 Output Shape              Param #   \n",
      "=================================================================\n",
      "conv2d_18 (Conv2D)           (None, 128, 128, 32)      160       \n",
      "_________________________________________________________________\n",
      "max_pooling2d_18 (MaxPooling (None, 64, 64, 32)        0         \n",
      "_________________________________________________________________\n",
      "conv2d_19 (Conv2D)           (None, 64, 64, 32)        4128      \n",
      "_________________________________________________________________\n",
      "max_pooling2d_19 (MaxPooling (None, 32, 32, 32)        0         \n",
      "_________________________________________________________________\n",
      "dropout_18 (Dropout)         (None, 32, 32, 32)        0         \n",
      "_________________________________________________________________\n",
      "flatten_9 (Flatten)          (None, 32768)             0         \n",
      "_________________________________________________________________\n",
      "dense_18 (Dense)             (None, 128)               4194432   \n",
      "_________________________________________________________________\n",
      "dropout_19 (Dropout)         (None, 128)               0         \n",
      "_________________________________________________________________\n",
      "dense_19 (Dense)             (None, 2)                 258       \n",
      "=================================================================\n",
      "Total params: 4,198,978\n",
      "Trainable params: 4,198,978\n",
      "Non-trainable params: 0\n",
      "_________________________________________________________________\n",
      "None\n"
     ]
    }
   ],
   "source": [
    "# 建立簡單的線性執行的模型\n",
    "model = Sequential()\n",
    "# 建立卷積層，filter=16,即 output space 的深度, Kernal Size: 5x5, activation function 採用 relu\n",
    "model.add(Conv2D(filters=32, \n",
    "                 kernel_size=(2, 2),\n",
    "                 padding=\"same\",\n",
    "                 activation='relu',\n",
    "                 input_shape=input_shape))\n",
    "\n",
    "# 建立池化層，池化大小=2x2，取最大值\n",
    "model.add(MaxPooling2D(pool_size=(2, 2)))\n",
    "\n",
    "model.add(Conv2D(filters=32, \n",
    "                 kernel_size=(2, 2),\n",
    "                 padding=\"same\",\n",
    "                 activation='relu',\n",
    "                 input_shape=input_shape))\n",
    "\n",
    "model.add(MaxPooling2D(pool_size=(2, 2)))\n",
    "\n",
    "# Dropout層隨機斷開輸入神經元，用於防止過度擬合，斷開比例:0.25\n",
    "model.add(Dropout(0.5))\n",
    "\n",
    "# Flatten層把多維的輸入一維化，常用在從卷積層到全連接層的過渡。\n",
    "model.add(Flatten())\n",
    "\n",
    "# 全連接層: 128個output\n",
    "model.add(Dense(128, activation='relu'))\n",
    "\n",
    "# Dropout層隨機斷開輸入神經元，用於防止過度擬合，斷開比例:0.25\n",
    "model.add(Dropout(0.5))\n",
    "\n",
    "# 使用 softmax activation function，將結果分類\n",
    "model.add(Dense(num_classes, activation='softmax'))\n",
    "\n",
    "# 編譯: 選擇損失函數、優化方法及成效衡量方式\n",
    "# model.compile(loss=\"categorical_crossentropy\",\n",
    "#               optimizer=\"adam\",\n",
    "#               metrics=['accuracy'])\n",
    "\n",
    "# model.compile(loss=[SigmoidFocalCrossEntropy()], metrics=[\"accuracy\"], optimizer=\"adam\")\n",
    "model.compile(loss=[multi_category_focal_loss2(alpha=0.25, gamma=2)], metrics=[\"accuracy\"], optimizer=\"adam\")\n",
    "\n",
    "print(model.summary()) "
   ]
  },
  {
   "cell_type": "code",
   "execution_count": 79,
   "metadata": {
    "scrolled": true
   },
   "outputs": [
    {
     "name": "stdout",
     "output_type": "stream",
     "text": [
      "Train on 2348 samples, validate on 588 samples\n",
      "Epoch 1/10\n",
      "2348/2348 [==============================] - 1s 292us/sample - loss: 0.0098 - accuracy: 0.9672 - val_loss: 0.2436 - val_accuracy: 0.6990\n",
      "Epoch 2/10\n",
      "2348/2348 [==============================] - 1s 285us/sample - loss: 0.0097 - accuracy: 0.9664 - val_loss: 0.2228 - val_accuracy: 0.6939\n",
      "Epoch 3/10\n",
      "2348/2348 [==============================] - 1s 290us/sample - loss: 0.0091 - accuracy: 0.9702 - val_loss: 0.2165 - val_accuracy: 0.7007\n",
      "Epoch 4/10\n",
      "2348/2348 [==============================] - 1s 292us/sample - loss: 0.0111 - accuracy: 0.9634 - val_loss: 0.1992 - val_accuracy: 0.7007\n",
      "Epoch 5/10\n",
      "2348/2348 [==============================] - 1s 290us/sample - loss: 0.0105 - accuracy: 0.9681 - val_loss: 0.2150 - val_accuracy: 0.7007\n",
      "Epoch 6/10\n",
      "2348/2348 [==============================] - 1s 285us/sample - loss: 0.0096 - accuracy: 0.9629 - val_loss: 0.2359 - val_accuracy: 0.7143\n",
      "Epoch 7/10\n",
      "2348/2348 [==============================] - 1s 292us/sample - loss: 0.0089 - accuracy: 0.9698 - val_loss: 0.2275 - val_accuracy: 0.7075\n",
      "Epoch 8/10\n",
      "2348/2348 [==============================] - 1s 291us/sample - loss: 0.0097 - accuracy: 0.9710 - val_loss: 0.2210 - val_accuracy: 0.7092\n",
      "Epoch 9/10\n",
      "2348/2348 [==============================] - 1s 290us/sample - loss: 0.0086 - accuracy: 0.9736 - val_loss: 0.2781 - val_accuracy: 0.7109\n",
      "Epoch 10/10\n",
      "2348/2348 [==============================] - 1s 284us/sample - loss: 0.0102 - accuracy: 0.9668 - val_loss: 0.1980 - val_accuracy: 0.7075\n",
      "Test loss: 0.21464255261323759\n",
      "Test accuracy: 0.7070845\n",
      "Confusion matrix:\n",
      " [[384  81]\n",
      " [134 135]]\n",
      "sensitivity = 0.8258064516129032\n",
      "specificity = 0.5018587360594795\n"
     ]
    }
   ],
   "source": [
    "# 進行訓練, 訓練過程會存在 train_history 變數中\n",
    "\n",
    "train_history = model.fit(x_train, \n",
    "                          y_train_onehot,\n",
    "                          batch_size=batch_size,\n",
    "                          epochs=epochs,\n",
    "                          verbose=1,\n",
    "                          validation_split=0.2)\n",
    "\n",
    "# 顯示損失函數、訓練成果(分數)\n",
    "score = model.evaluate(x_test, y_test_onehot, verbose=0)\n",
    "print('Test loss:', score[0])\n",
    "print('Test accuracy:', score[1])\n",
    "\n",
    "output_sensitivity_specificity(x_test, y_test_onehot)"
   ]
  },
  {
   "cell_type": "code",
   "execution_count": 20,
   "metadata": {},
   "outputs": [
    {
     "name": "stdout",
     "output_type": "stream",
     "text": [
      "<class 'numpy.ndarray'>\n",
      "(734, 128, 128, 1)\n",
      "<class 'numpy.ndarray'>\n",
      "(734, 2)\n"
     ]
    }
   ],
   "source": [
    "print(type(x_test))\n",
    "print(np.shape(x_test))\n",
    "print(type(y_test_onehot))\n",
    "print(np.shape(y_test_onehot))"
   ]
  },
  {
   "cell_type": "code",
   "execution_count": 57,
   "metadata": {},
   "outputs": [
    {
     "name": "stdout",
     "output_type": "stream",
     "text": [
      "<class 'numpy.ndarray'>\n",
      "(1318, 128, 128, 1)\n",
      "<class 'numpy.ndarray'>\n",
      "(1318, 2)\n",
      "nodule count = 674\n"
     ]
    }
   ],
   "source": [
    "print(type(x_test_same_size))\n",
    "print(np.shape(x_test_same_size))\n",
    "print(type(y_test_onehot_same_size))\n",
    "print(np.shape(y_test_onehot_same_size))\n",
    "\n",
    "print(f'nodule count = {np.sum(y_test_same_size)}')"
   ]
  },
  {
   "cell_type": "code",
   "execution_count": 58,
   "metadata": {},
   "outputs": [
    {
     "name": "stdout",
     "output_type": "stream",
     "text": [
      "Test loss: 0.9626927503493469\n",
      "Test accuracy: 0.60622156\n"
     ]
    }
   ],
   "source": [
    "score = model.evaluate(x_test_same_size, y_test_onehot_same_size, verbose=0)\n",
    "print('Test loss:', score[0])\n",
    "print('Test accuracy:', score[1])"
   ]
  },
  {
   "cell_type": "code",
   "execution_count": 1,
   "metadata": {},
   "outputs": [],
   "source": [
    "par1={\n",
    "    'Validation': 0.2, \n",
    "    'epoch': 40, \n",
    "    'Batch': 10\n",
    "}\n",
    "par = {\n",
    "    'filter1':64,\n",
    "    'filter2':128,\n",
    "    'strides':1,\n",
    "    'kernel': 2,\n",
    "    'dropout1':0.5,\n",
    "    'dropout2':0.5,\n",
    "    'Neural':256\n",
    "}\n",
    "\n",
    "def DL_fun1(par,par1,x_train,y_train,x_test,y_test):\n",
    "    result = None\n",
    "    nf=par['filter1']\n",
    "    nf1=par['filter2']\n",
    "    ks=par['kernel']\n",
    "    hs=np.shape(x)[1]\n",
    "    ws=np.shape(x)[2]\n",
    "    dr1=par['dropout1']\n",
    "    dr2=par['dropout2']\n",
    "    nn=par['Neural']\n",
    "    vsr=par1['Validation']\n",
    "    epn=par1['epoch']\n",
    "    bs=par1['Batch']\n",
    "    y_train_onehot = to_categorical(y_train)\n",
    "    y_test_onehot = to_categorical(y_test)\n",
    "    try:\n",
    "        # 只使用 80% 的 GPU 記憶體config = tf.ConfigProto()\n",
    "#         gpu_options = tf.GPUOptions(per_process_gpu_memory_fraction=0.5, allow_growth=True)\n",
    "#         sess = tf.InteractiveSession(config=tf.ConfigProto(gpu_options=gpu_options))\n",
    "#         tf.keras.backend.set_session(sess)\n",
    "\n",
    "        model = Sequential([\n",
    "            Conv2D(filters=nf,kernel_size=(ks,ks),strides=(par['strides'],par['strides']),padding='same',input_shape=(hs,ws,1),activation='relu'),\n",
    "            MaxPooling2D(pool_size=(2,2)),\n",
    "            Conv2D(filters=nf1,kernel_size=(ks,ks),strides=(par['strides'],par['strides']),padding='same',input_shape=(hs,ws,1),activation='relu'),\n",
    "            MaxPooling2D(pool_size=(2,2)),\n",
    "            Dropout(dr1),\n",
    "            Flatten(),\n",
    "            Dense(nn, activation='relu'),\n",
    "            Dropout(dr2),\n",
    "            Dense(3,activation='softmax'),\n",
    "        ])\n",
    "        model.compile(loss='categorical_crossentropy',optimizer='adam',metrics=['accuracy'])\n",
    "        print(model.summary()) \n",
    "        train_history=model.fit(x=x_train,\n",
    "                                y=y_train_onehot,\n",
    "                                validation_split=vsr,\n",
    "                                epochs=epn,\n",
    "                                batch_size=bs,\n",
    "                                verbose=2)\n",
    "        scores=model.evaluate(x=x_test,y=y_test_onehot)\n",
    "        result={'History':train_history, 'Score': scores}\n",
    "        print(result)\n",
    "    except Exception as e:\n",
    "        print(traceback.format_exc())\n",
    "    finally:\n",
    "#         sess.close()\n",
    "        pass\n",
    "    return result"
   ]
  },
  {
   "cell_type": "code",
   "execution_count": null,
   "metadata": {
    "scrolled": false
   },
   "outputs": [],
   "source": [
    "result=DL_fun1(par,par1,x_train,y_train,x_test,y_test)"
   ]
  },
  {
   "cell_type": "code",
   "execution_count": 41,
   "metadata": {},
   "outputs": [
    {
     "name": "stdout",
     "output_type": "stream",
     "text": [
      "None\n"
     ]
    }
   ],
   "source": [
    "print(result)"
   ]
  },
  {
   "cell_type": "code",
   "execution_count": 13,
   "metadata": {},
   "outputs": [],
   "source": [
    "def multi_category_focal_loss2(gamma=2., alpha=.25):\n",
    "    \"\"\"\n",
    "    focal loss for multi category of multi label problem\n",
    "    适用于多分类或多标签问题的focal loss\n",
    "    alpha控制真值y_true为1/0时的权重\n",
    "        1的权重为alpha, 0的权重为1-alpha\n",
    "    当你的模型欠拟合，学习存在困难时，可以尝试适用本函数作为loss\n",
    "    当模型过于激进(无论何时总是倾向于预测出1),尝试将alpha调小\n",
    "    当模型过于惰性(无论何时总是倾向于预测出0,或是某一个固定的常数,说明没有学到有效特征)\n",
    "        尝试将alpha调大,鼓励模型进行预测出1。\n",
    "    Usage:\n",
    "     model.compile(loss=[multi_category_focal_loss2(alpha=0.25, gamma=2)], metrics=[\"accuracy\"], optimizer=adam)\n",
    "    \"\"\"\n",
    "    epsilon = 1.e-7\n",
    "    gamma = float(gamma)\n",
    "    alpha = tf.constant(alpha, dtype=tf.float32)\n",
    "\n",
    "    def multi_category_focal_loss2_fixed(y_true, y_pred):\n",
    "        y_true = tf.cast(y_true, tf.float32)\n",
    "        y_pred = tf.clip_by_value(y_pred, epsilon, 1. - epsilon)\n",
    "    \n",
    "        alpha_t = y_true*alpha + (tf.ones_like(y_true)-y_true)*(1-alpha)\n",
    "        y_t = tf.multiply(y_true, y_pred) + tf.multiply(1-y_true, 1-y_pred)\n",
    "        ce = -tf.math.log(y_t)\n",
    "        weight = tf.pow(tf.subtract(1., y_t), gamma)\n",
    "        fl = tf.multiply(tf.multiply(weight, ce), alpha_t)\n",
    "        loss = tf.reduce_mean(fl)\n",
    "        return loss\n",
    "    return multi_category_focal_loss2_fixed"
   ]
  },
  {
   "cell_type": "code",
   "execution_count": null,
   "metadata": {},
   "outputs": [],
   "source": [
    "from tensorflow.python.keras.losses import LossFunctionWrapper\n",
    "\n",
    "class SigmoidFocalCrossEntropy(LossFunctionWrapper):\n",
    "    \"\"\"Implements the focal loss function.\n",
    "    Focal loss was first introduced in the RetinaNet paper\n",
    "    (https://arxiv.org/pdf/1708.02002.pdf). Focal loss is extremely useful for\n",
    "    classification when you have highly imbalanced classes. It down-weights\n",
    "    well-classified examples and focuses on hard examples. The loss value is\n",
    "    much high for a sample which is misclassified by the classifier as compared\n",
    "    to the loss value corresponding to a well-classified example. One of the\n",
    "    best use-cases of focal loss is its usage in object detection where the\n",
    "    imbalance between the background class and other classes is extremely high.\n",
    "    Usage:\n",
    "    ```python\n",
    "    fl = tfa.losses.SigmoidFocalCrossEntropy()\n",
    "    loss = fl(\n",
    "      [[0.97], [0.91], [0.03]],\n",
    "      [[1.0], [1.0], [0.0]])\n",
    "    print('Loss: ', loss.numpy())  # Loss: [0.00010971,\n",
    "                                            0.0032975,\n",
    "                                            0.00030611]\n",
    "    ```\n",
    "    Usage with tf.keras API:\n",
    "    ```python\n",
    "    model = tf.keras.Model(inputs, outputs)\n",
    "    model.compile('sgd', loss=tf.keras.losses.SigmoidFocalCrossEntropy())\n",
    "    ```\n",
    "    Args\n",
    "      alpha: balancing factor, default value is 0.25\n",
    "      gamma: modulating factor, default value is 2.0\n",
    "    Returns:\n",
    "      Weighted loss float `Tensor`. If `reduction` is `NONE`, this has the same\n",
    "          shape as `y_true`; otherwise, it is scalar.\n",
    "    Raises:\n",
    "        ValueError: If the shape of `sample_weight` is invalid or value of\n",
    "          `gamma` is less than zero\n",
    "    \"\"\"\n",
    "\n",
    "    def __init__(\n",
    "        self,\n",
    "        from_logits=False,\n",
    "        alpha=0.25,\n",
    "        gamma=2.0,\n",
    "        reduction: str = tf.losses.Reduction.NONE,\n",
    "        name: str = \"sigmoid_focal_crossentropy\",\n",
    "    ):\n",
    "        super().__init__(\n",
    "            sigmoid_focal_crossentropy,\n",
    "            name=name,\n",
    "            reduction=reduction,\n",
    "            from_logits=from_logits,\n",
    "            alpha=alpha,\n",
    "            gamma=gamma,\n",
    "        )\n",
    "\n",
    "def sigmoid_focal_crossentropy(\n",
    "    y_true,\n",
    "    y_pred,\n",
    "    alpha=0.25,\n",
    "    gamma=2.0,\n",
    "    from_logits: bool = False,\n",
    "):\n",
    "    \"\"\"\n",
    "    Args\n",
    "        y_true: true targets tensor.\n",
    "        y_pred: predictions tensor.\n",
    "        alpha: balancing factor.\n",
    "        gamma: modulating factor.\n",
    "    Returns:\n",
    "        Weighted loss float `Tensor`. If `reduction` is `NONE`,this has the\n",
    "        same shape as `y_true`; otherwise, it is scalar.\n",
    "    \"\"\"\n",
    "    if gamma and gamma < 0:\n",
    "        raise ValueError(\"Value of gamma should be greater than or equal to zero\")\n",
    "\n",
    "    y_pred = tf.convert_to_tensor(y_pred)\n",
    "    y_true = tf.convert_to_tensor(y_true, dtype=y_pred.dtype)\n",
    "\n",
    "    # Get the cross_entropy for each entry\n",
    "    ce = K.binary_crossentropy(y_true, y_pred, from_logits=from_logits)\n",
    "\n",
    "    # If logits are provided then convert the predictions into probabilities\n",
    "    if from_logits:\n",
    "        pred_prob = tf.sigmoid(y_pred)\n",
    "    else:\n",
    "        pred_prob = y_pred\n",
    "\n",
    "    p_t = (y_true * pred_prob) + ((1 - y_true) * (1 - pred_prob))\n",
    "    alpha_factor = 1.0\n",
    "    modulating_factor = 1.0\n",
    "\n",
    "    if alpha:\n",
    "        alpha = tf.convert_to_tensor(alpha, dtype=K.floatx())\n",
    "        alpha_factor = y_true * alpha + (1 - y_true) * (1 - alpha)\n",
    "\n",
    "    if gamma:\n",
    "        gamma = tf.convert_to_tensor(gamma, dtype=K.floatx())\n",
    "        modulating_factor = tf.pow((1.0 - p_t), gamma)\n",
    "\n",
    "    # compute the final loss and return\n",
    "    return tf.reduce_sum(alpha_factor * modulating_factor * ce, axis=-1)"
   ]
  },
  {
   "cell_type": "code",
   "execution_count": 33,
   "metadata": {},
   "outputs": [
    {
     "name": "stdout",
     "output_type": "stream",
     "text": [
      "Loss:  [6.8532740e-06 1.9097868e-04 2.0559823e-05]\n"
     ]
    }
   ],
   "source": [
    "fl = SigmoidFocalCrossEntropy()\n",
    "loss = fl(\n",
    "  y_true = [[1.0], [1.0], [0.0]],\n",
    "  y_pred = [[0.97], [0.91], [0.03]])\n",
    "print('Loss: ', loss.numpy())  # Loss: [6.8532745e-06,\n",
    "#                                         1.9097870e-04,\n",
    "#                                         2.0559824e-05]"
   ]
  }
 ],
 "metadata": {
  "kernelspec": {
   "display_name": "Python 3",
   "language": "python",
   "name": "python3"
  },
  "language_info": {
   "codemirror_mode": {
    "name": "ipython",
    "version": 3
   },
   "file_extension": ".py",
   "mimetype": "text/x-python",
   "name": "python",
   "nbconvert_exporter": "python",
   "pygments_lexer": "ipython3",
   "version": "3.7.7"
  }
 },
 "nbformat": 4,
 "nbformat_minor": 2
}
